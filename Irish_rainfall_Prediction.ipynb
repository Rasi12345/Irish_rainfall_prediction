{
  "nbformat": 4,
  "nbformat_minor": 0,
  "metadata": {
    "colab": {
      "name": "Irish-rainfall-Prediction.ipynb",
      "provenance": [],
      "collapsed_sections": []
    },
    "kernelspec": {
      "name": "python3",
      "display_name": "Python 3"
    },
    "language_info": {
      "name": "python"
    }
  },
  "cells": [
    {
      "cell_type": "markdown",
      "metadata": {
        "id": "ptZVuPDRBV01"
      },
      "source": [
        "1.Mounted at '/content/drive'"
      ]
    },
    {
      "cell_type": "code",
      "metadata": {
        "colab": {
          "base_uri": "https://localhost:8080/"
        },
        "id": "hUZoUwD2LLAd",
        "outputId": "19c017e5-cb22-4140-9cab-51fe567021c5"
      },
      "source": [
        "from google.colab import drive\n",
        "drive.mount('/content/drive')"
      ],
      "execution_count": 1,
      "outputs": [
        {
          "output_type": "stream",
          "text": [
            "Mounted at /content/drive\n"
          ],
          "name": "stdout"
        }
      ]
    },
    {
      "cell_type": "markdown",
      "metadata": {
        "id": "70KNqTX7Corr"
      },
      "source": [
        "**Imported required libraries **"
      ]
    },
    {
      "cell_type": "code",
      "metadata": {
        "id": "AVFxyooELjhf"
      },
      "source": [
        "import os\n",
        "import numpy as np \n",
        "import pandas as pd\n",
        "import seaborn as sns\n",
        "import matplotlib.pyplot as plt\n",
        "import matplotlib.ticker as ticker\n",
        "%matplotlib inline\n",
        "import matplotlib.dates as mdates"
      ],
      "execution_count": 2,
      "outputs": []
    },
    {
      "cell_type": "markdown",
      "metadata": {
        "id": "CwX554cVC4rZ"
      },
      "source": [
        "2.Reading the Irish hourly data csv file."
      ]
    },
    {
      "cell_type": "code",
      "metadata": {
        "colab": {
          "base_uri": "https://localhost:8080/"
        },
        "id": "1NXvFI5_LqGg",
        "outputId": "426f7b50-b222-45e3-bfe4-dee252c1a5a5"
      },
      "source": [
        "df = pd.read_csv('/content/drive/MyDrive/hourly-data-Dublin.csv')"
      ],
      "execution_count": 3,
      "outputs": [
        {
          "output_type": "stream",
          "text": [
            "/usr/local/lib/python3.7/dist-packages/IPython/core/interactiveshell.py:2718: DtypeWarning: Columns (5,6,7,8,9,10,11,12,13,14,15,16,17) have mixed types.Specify dtype option on import or set low_memory=False.\n",
            "  interactivity=interactivity, compiler=compiler, result=result)\n"
          ],
          "name": "stderr"
        }
      ]
    },
    {
      "cell_type": "code",
      "metadata": {
        "colab": {
          "base_uri": "https://localhost:8080/",
          "height": 204
        },
        "id": "be9MFNCqL1qH",
        "outputId": "2bf19ba7-3ab7-4e54-9553-0907d342fbf2"
      },
      "source": [
        "df.head()"
      ],
      "execution_count": 4,
      "outputs": [
        {
          "output_type": "execute_result",
          "data": {
            "text/html": [
              "<div>\n",
              "<style scoped>\n",
              "    .dataframe tbody tr th:only-of-type {\n",
              "        vertical-align: middle;\n",
              "    }\n",
              "\n",
              "    .dataframe tbody tr th {\n",
              "        vertical-align: top;\n",
              "    }\n",
              "\n",
              "    .dataframe thead th {\n",
              "        text-align: right;\n",
              "    }\n",
              "</style>\n",
              "<table border=\"1\" class=\"dataframe\">\n",
              "  <thead>\n",
              "    <tr style=\"text-align: right;\">\n",
              "      <th></th>\n",
              "      <th>county</th>\n",
              "      <th>station</th>\n",
              "      <th>latitude</th>\n",
              "      <th>longitude</th>\n",
              "      <th>date</th>\n",
              "      <th>rain</th>\n",
              "      <th>temp</th>\n",
              "      <th>wetb</th>\n",
              "      <th>dewpt</th>\n",
              "      <th>vappr</th>\n",
              "      <th>rhum</th>\n",
              "      <th>msl</th>\n",
              "      <th>wdsp</th>\n",
              "      <th>wddir</th>\n",
              "      <th>sun</th>\n",
              "      <th>vis</th>\n",
              "      <th>clht</th>\n",
              "      <th>clamt</th>\n",
              "    </tr>\n",
              "  </thead>\n",
              "  <tbody>\n",
              "    <tr>\n",
              "      <th>0</th>\n",
              "      <td>Galway</td>\n",
              "      <td>ATHENRY</td>\n",
              "      <td>53.289</td>\n",
              "      <td>-8.786</td>\n",
              "      <td>26-jun-2011 01:00</td>\n",
              "      <td>0.0</td>\n",
              "      <td>15.3</td>\n",
              "      <td>14.5</td>\n",
              "      <td>13.9</td>\n",
              "      <td>15.8</td>\n",
              "      <td>90</td>\n",
              "      <td>1016.0</td>\n",
              "      <td>8</td>\n",
              "      <td>190</td>\n",
              "      <td>NaN</td>\n",
              "      <td>NaN</td>\n",
              "      <td>NaN</td>\n",
              "      <td>NaN</td>\n",
              "    </tr>\n",
              "    <tr>\n",
              "      <th>1</th>\n",
              "      <td>Galway</td>\n",
              "      <td>ATHENRY</td>\n",
              "      <td>53.289</td>\n",
              "      <td>-8.786</td>\n",
              "      <td>26-jun-2011 02:00</td>\n",
              "      <td>0.0</td>\n",
              "      <td>14.7</td>\n",
              "      <td>13.7</td>\n",
              "      <td>12.9</td>\n",
              "      <td>14.9</td>\n",
              "      <td>89</td>\n",
              "      <td>1015.8</td>\n",
              "      <td>7</td>\n",
              "      <td>190</td>\n",
              "      <td>NaN</td>\n",
              "      <td>NaN</td>\n",
              "      <td>NaN</td>\n",
              "      <td>NaN</td>\n",
              "    </tr>\n",
              "    <tr>\n",
              "      <th>2</th>\n",
              "      <td>Galway</td>\n",
              "      <td>ATHENRY</td>\n",
              "      <td>53.289</td>\n",
              "      <td>-8.786</td>\n",
              "      <td>26-jun-2011 03:00</td>\n",
              "      <td>0.0</td>\n",
              "      <td>14.3</td>\n",
              "      <td>13.4</td>\n",
              "      <td>12.6</td>\n",
              "      <td>14.6</td>\n",
              "      <td>89</td>\n",
              "      <td>1015.5</td>\n",
              "      <td>6</td>\n",
              "      <td>190</td>\n",
              "      <td>NaN</td>\n",
              "      <td>NaN</td>\n",
              "      <td>NaN</td>\n",
              "      <td>NaN</td>\n",
              "    </tr>\n",
              "    <tr>\n",
              "      <th>3</th>\n",
              "      <td>Galway</td>\n",
              "      <td>ATHENRY</td>\n",
              "      <td>53.289</td>\n",
              "      <td>-8.786</td>\n",
              "      <td>26-jun-2011 04:00</td>\n",
              "      <td>0.0</td>\n",
              "      <td>14.4</td>\n",
              "      <td>13.6</td>\n",
              "      <td>12.8</td>\n",
              "      <td>14.8</td>\n",
              "      <td>90</td>\n",
              "      <td>1015.3</td>\n",
              "      <td>7</td>\n",
              "      <td>180</td>\n",
              "      <td>NaN</td>\n",
              "      <td>NaN</td>\n",
              "      <td>NaN</td>\n",
              "      <td>NaN</td>\n",
              "    </tr>\n",
              "    <tr>\n",
              "      <th>4</th>\n",
              "      <td>Galway</td>\n",
              "      <td>ATHENRY</td>\n",
              "      <td>53.289</td>\n",
              "      <td>-8.786</td>\n",
              "      <td>26-jun-2011 05:00</td>\n",
              "      <td>0.0</td>\n",
              "      <td>14.4</td>\n",
              "      <td>13.5</td>\n",
              "      <td>12.7</td>\n",
              "      <td>14.7</td>\n",
              "      <td>89</td>\n",
              "      <td>1015.1</td>\n",
              "      <td>6</td>\n",
              "      <td>190</td>\n",
              "      <td>NaN</td>\n",
              "      <td>NaN</td>\n",
              "      <td>NaN</td>\n",
              "      <td>NaN</td>\n",
              "    </tr>\n",
              "  </tbody>\n",
              "</table>\n",
              "</div>"
            ],
            "text/plain": [
              "   county  station  latitude  longitude  ...  sun  vis clht clamt\n",
              "0  Galway  ATHENRY    53.289     -8.786  ...  NaN  NaN  NaN   NaN\n",
              "1  Galway  ATHENRY    53.289     -8.786  ...  NaN  NaN  NaN   NaN\n",
              "2  Galway  ATHENRY    53.289     -8.786  ...  NaN  NaN  NaN   NaN\n",
              "3  Galway  ATHENRY    53.289     -8.786  ...  NaN  NaN  NaN   NaN\n",
              "4  Galway  ATHENRY    53.289     -8.786  ...  NaN  NaN  NaN   NaN\n",
              "\n",
              "[5 rows x 18 columns]"
            ]
          },
          "metadata": {
            "tags": []
          },
          "execution_count": 4
        }
      ]
    },
    {
      "cell_type": "code",
      "metadata": {
        "colab": {
          "base_uri": "https://localhost:8080/"
        },
        "id": "f4TNGXMIMFHF",
        "outputId": "d75f64cd-85b0-4996-a439-6ec7763554f1"
      },
      "source": [
        "df.info()"
      ],
      "execution_count": 5,
      "outputs": [
        {
          "output_type": "stream",
          "text": [
            "<class 'pandas.core.frame.DataFrame'>\n",
            "RangeIndex: 4660423 entries, 0 to 4660422\n",
            "Data columns (total 18 columns):\n",
            " #   Column     Dtype  \n",
            "---  ------     -----  \n",
            " 0   county     object \n",
            " 1   station    object \n",
            " 2   latitude   float64\n",
            " 3   longitude  float64\n",
            " 4   date       object \n",
            " 5   rain       object \n",
            " 6   temp       object \n",
            " 7   wetb       object \n",
            " 8   dewpt      object \n",
            " 9   vappr      object \n",
            " 10  rhum       object \n",
            " 11  msl        object \n",
            " 12  wdsp       object \n",
            " 13  wddir      object \n",
            " 14  sun        object \n",
            " 15  vis        object \n",
            " 16  clht       object \n",
            " 17  clamt      object \n",
            "dtypes: float64(2), object(16)\n",
            "memory usage: 640.0+ MB\n"
          ],
          "name": "stdout"
        }
      ]
    },
    {
      "cell_type": "code",
      "metadata": {
        "colab": {
          "base_uri": "https://localhost:8080/",
          "height": 297
        },
        "id": "L483W5IyMLG1",
        "outputId": "be9a0203-5505-4e67-91ce-94a767f43058"
      },
      "source": [
        "df.describe()"
      ],
      "execution_count": 6,
      "outputs": [
        {
          "output_type": "execute_result",
          "data": {
            "text/html": [
              "<div>\n",
              "<style scoped>\n",
              "    .dataframe tbody tr th:only-of-type {\n",
              "        vertical-align: middle;\n",
              "    }\n",
              "\n",
              "    .dataframe tbody tr th {\n",
              "        vertical-align: top;\n",
              "    }\n",
              "\n",
              "    .dataframe thead th {\n",
              "        text-align: right;\n",
              "    }\n",
              "</style>\n",
              "<table border=\"1\" class=\"dataframe\">\n",
              "  <thead>\n",
              "    <tr style=\"text-align: right;\">\n",
              "      <th></th>\n",
              "      <th>latitude</th>\n",
              "      <th>longitude</th>\n",
              "    </tr>\n",
              "  </thead>\n",
              "  <tbody>\n",
              "    <tr>\n",
              "      <th>count</th>\n",
              "      <td>4.660423e+06</td>\n",
              "      <td>4.660423e+06</td>\n",
              "    </tr>\n",
              "    <tr>\n",
              "      <th>mean</th>\n",
              "      <td>5.325453e+01</td>\n",
              "      <td>-8.181232e+00</td>\n",
              "    </tr>\n",
              "    <tr>\n",
              "      <th>std</th>\n",
              "      <td>9.898850e-01</td>\n",
              "      <td>1.220681e+00</td>\n",
              "    </tr>\n",
              "    <tr>\n",
              "      <th>min</th>\n",
              "      <td>5.147600e+01</td>\n",
              "      <td>-1.024100e+01</td>\n",
              "    </tr>\n",
              "    <tr>\n",
              "      <th>25%</th>\n",
              "      <td>5.229800e+01</td>\n",
              "      <td>-8.993000e+00</td>\n",
              "    </tr>\n",
              "    <tr>\n",
              "      <th>50%</th>\n",
              "      <td>5.342800e+01</td>\n",
              "      <td>-8.244000e+00</td>\n",
              "    </tr>\n",
              "    <tr>\n",
              "      <th>75%</th>\n",
              "      <td>5.390600e+01</td>\n",
              "      <td>-7.310000e+00</td>\n",
              "    </tr>\n",
              "    <tr>\n",
              "      <th>max</th>\n",
              "      <td>5.537200e+01</td>\n",
              "      <td>-6.241000e+00</td>\n",
              "    </tr>\n",
              "  </tbody>\n",
              "</table>\n",
              "</div>"
            ],
            "text/plain": [
              "           latitude     longitude\n",
              "count  4.660423e+06  4.660423e+06\n",
              "mean   5.325453e+01 -8.181232e+00\n",
              "std    9.898850e-01  1.220681e+00\n",
              "min    5.147600e+01 -1.024100e+01\n",
              "25%    5.229800e+01 -8.993000e+00\n",
              "50%    5.342800e+01 -8.244000e+00\n",
              "75%    5.390600e+01 -7.310000e+00\n",
              "max    5.537200e+01 -6.241000e+00"
            ]
          },
          "metadata": {
            "tags": []
          },
          "execution_count": 6
        }
      ]
    },
    {
      "cell_type": "code",
      "metadata": {
        "colab": {
          "base_uri": "https://localhost:8080/"
        },
        "id": "lwNCuAa6MQ9e",
        "outputId": "8ce2935a-8aa1-41ec-ed42-0900f52ad57d"
      },
      "source": [
        "df.isna().sum() / len(df)"
      ],
      "execution_count": 7,
      "outputs": [
        {
          "output_type": "execute_result",
          "data": {
            "text/plain": [
              "county       0.000000\n",
              "station      0.000000\n",
              "latitude     0.000000\n",
              "longitude    0.000000\n",
              "date         0.000000\n",
              "rain         0.000000\n",
              "temp         0.000000\n",
              "wetb         0.000000\n",
              "dewpt        0.000000\n",
              "vappr        0.000000\n",
              "rhum         0.000000\n",
              "msl          0.000000\n",
              "wdsp         0.049144\n",
              "wddir        0.049144\n",
              "sun          0.554707\n",
              "vis          0.554707\n",
              "clht         0.554707\n",
              "clamt        0.554707\n",
              "dtype: float64"
            ]
          },
          "metadata": {
            "tags": []
          },
          "execution_count": 7
        }
      ]
    },
    {
      "cell_type": "markdown",
      "metadata": {
        "id": "GYkZGCmmDliz"
      },
      "source": [
        "3. Split the date time format into day, month and year."
      ]
    },
    {
      "cell_type": "code",
      "metadata": {
        "id": "SioMovjtMxoq"
      },
      "source": [
        "df[['date','timestamp']] = df['date'].str.split(' ',expand=True)\n",
        "df[['day','month','year']] = df['date'].str.split('-',expand=True)\n",
        "df['hour'] = df['timestamp'].str[0:2]"
      ],
      "execution_count": 8,
      "outputs": []
    },
    {
      "cell_type": "code",
      "metadata": {
        "colab": {
          "base_uri": "https://localhost:8080/",
          "height": 394
        },
        "id": "vrUmyy5VNeaf",
        "outputId": "2f1cefa5-e0f3-4aa9-b3e7-14e1e944b121"
      },
      "source": [
        "df.head()"
      ],
      "execution_count": 9,
      "outputs": [
        {
          "output_type": "execute_result",
          "data": {
            "text/html": [
              "<div>\n",
              "<style scoped>\n",
              "    .dataframe tbody tr th:only-of-type {\n",
              "        vertical-align: middle;\n",
              "    }\n",
              "\n",
              "    .dataframe tbody tr th {\n",
              "        vertical-align: top;\n",
              "    }\n",
              "\n",
              "    .dataframe thead th {\n",
              "        text-align: right;\n",
              "    }\n",
              "</style>\n",
              "<table border=\"1\" class=\"dataframe\">\n",
              "  <thead>\n",
              "    <tr style=\"text-align: right;\">\n",
              "      <th></th>\n",
              "      <th>county</th>\n",
              "      <th>station</th>\n",
              "      <th>latitude</th>\n",
              "      <th>longitude</th>\n",
              "      <th>date</th>\n",
              "      <th>rain</th>\n",
              "      <th>temp</th>\n",
              "      <th>wetb</th>\n",
              "      <th>dewpt</th>\n",
              "      <th>vappr</th>\n",
              "      <th>rhum</th>\n",
              "      <th>msl</th>\n",
              "      <th>wdsp</th>\n",
              "      <th>wddir</th>\n",
              "      <th>sun</th>\n",
              "      <th>vis</th>\n",
              "      <th>clht</th>\n",
              "      <th>clamt</th>\n",
              "      <th>timestamp</th>\n",
              "      <th>day</th>\n",
              "      <th>month</th>\n",
              "      <th>year</th>\n",
              "      <th>hour</th>\n",
              "    </tr>\n",
              "  </thead>\n",
              "  <tbody>\n",
              "    <tr>\n",
              "      <th>0</th>\n",
              "      <td>Galway</td>\n",
              "      <td>ATHENRY</td>\n",
              "      <td>53.289</td>\n",
              "      <td>-8.786</td>\n",
              "      <td>26-jun-2011</td>\n",
              "      <td>0.0</td>\n",
              "      <td>15.3</td>\n",
              "      <td>14.5</td>\n",
              "      <td>13.9</td>\n",
              "      <td>15.8</td>\n",
              "      <td>90</td>\n",
              "      <td>1016.0</td>\n",
              "      <td>8</td>\n",
              "      <td>190</td>\n",
              "      <td>NaN</td>\n",
              "      <td>NaN</td>\n",
              "      <td>NaN</td>\n",
              "      <td>NaN</td>\n",
              "      <td>01:00</td>\n",
              "      <td>26</td>\n",
              "      <td>jun</td>\n",
              "      <td>2011</td>\n",
              "      <td>01</td>\n",
              "    </tr>\n",
              "    <tr>\n",
              "      <th>1</th>\n",
              "      <td>Galway</td>\n",
              "      <td>ATHENRY</td>\n",
              "      <td>53.289</td>\n",
              "      <td>-8.786</td>\n",
              "      <td>26-jun-2011</td>\n",
              "      <td>0.0</td>\n",
              "      <td>14.7</td>\n",
              "      <td>13.7</td>\n",
              "      <td>12.9</td>\n",
              "      <td>14.9</td>\n",
              "      <td>89</td>\n",
              "      <td>1015.8</td>\n",
              "      <td>7</td>\n",
              "      <td>190</td>\n",
              "      <td>NaN</td>\n",
              "      <td>NaN</td>\n",
              "      <td>NaN</td>\n",
              "      <td>NaN</td>\n",
              "      <td>02:00</td>\n",
              "      <td>26</td>\n",
              "      <td>jun</td>\n",
              "      <td>2011</td>\n",
              "      <td>02</td>\n",
              "    </tr>\n",
              "    <tr>\n",
              "      <th>2</th>\n",
              "      <td>Galway</td>\n",
              "      <td>ATHENRY</td>\n",
              "      <td>53.289</td>\n",
              "      <td>-8.786</td>\n",
              "      <td>26-jun-2011</td>\n",
              "      <td>0.0</td>\n",
              "      <td>14.3</td>\n",
              "      <td>13.4</td>\n",
              "      <td>12.6</td>\n",
              "      <td>14.6</td>\n",
              "      <td>89</td>\n",
              "      <td>1015.5</td>\n",
              "      <td>6</td>\n",
              "      <td>190</td>\n",
              "      <td>NaN</td>\n",
              "      <td>NaN</td>\n",
              "      <td>NaN</td>\n",
              "      <td>NaN</td>\n",
              "      <td>03:00</td>\n",
              "      <td>26</td>\n",
              "      <td>jun</td>\n",
              "      <td>2011</td>\n",
              "      <td>03</td>\n",
              "    </tr>\n",
              "    <tr>\n",
              "      <th>3</th>\n",
              "      <td>Galway</td>\n",
              "      <td>ATHENRY</td>\n",
              "      <td>53.289</td>\n",
              "      <td>-8.786</td>\n",
              "      <td>26-jun-2011</td>\n",
              "      <td>0.0</td>\n",
              "      <td>14.4</td>\n",
              "      <td>13.6</td>\n",
              "      <td>12.8</td>\n",
              "      <td>14.8</td>\n",
              "      <td>90</td>\n",
              "      <td>1015.3</td>\n",
              "      <td>7</td>\n",
              "      <td>180</td>\n",
              "      <td>NaN</td>\n",
              "      <td>NaN</td>\n",
              "      <td>NaN</td>\n",
              "      <td>NaN</td>\n",
              "      <td>04:00</td>\n",
              "      <td>26</td>\n",
              "      <td>jun</td>\n",
              "      <td>2011</td>\n",
              "      <td>04</td>\n",
              "    </tr>\n",
              "    <tr>\n",
              "      <th>4</th>\n",
              "      <td>Galway</td>\n",
              "      <td>ATHENRY</td>\n",
              "      <td>53.289</td>\n",
              "      <td>-8.786</td>\n",
              "      <td>26-jun-2011</td>\n",
              "      <td>0.0</td>\n",
              "      <td>14.4</td>\n",
              "      <td>13.5</td>\n",
              "      <td>12.7</td>\n",
              "      <td>14.7</td>\n",
              "      <td>89</td>\n",
              "      <td>1015.1</td>\n",
              "      <td>6</td>\n",
              "      <td>190</td>\n",
              "      <td>NaN</td>\n",
              "      <td>NaN</td>\n",
              "      <td>NaN</td>\n",
              "      <td>NaN</td>\n",
              "      <td>05:00</td>\n",
              "      <td>26</td>\n",
              "      <td>jun</td>\n",
              "      <td>2011</td>\n",
              "      <td>05</td>\n",
              "    </tr>\n",
              "  </tbody>\n",
              "</table>\n",
              "</div>"
            ],
            "text/plain": [
              "   county  station  latitude  longitude  ... day month  year hour\n",
              "0  Galway  ATHENRY    53.289     -8.786  ...  26   jun  2011   01\n",
              "1  Galway  ATHENRY    53.289     -8.786  ...  26   jun  2011   02\n",
              "2  Galway  ATHENRY    53.289     -8.786  ...  26   jun  2011   03\n",
              "3  Galway  ATHENRY    53.289     -8.786  ...  26   jun  2011   04\n",
              "4  Galway  ATHENRY    53.289     -8.786  ...  26   jun  2011   05\n",
              "\n",
              "[5 rows x 23 columns]"
            ]
          },
          "metadata": {
            "tags": []
          },
          "execution_count": 9
        }
      ]
    },
    {
      "cell_type": "code",
      "metadata": {
        "id": "7UjqNCNpNqTM"
      },
      "source": [
        "df.drop('date', axis=1, inplace=True)"
      ],
      "execution_count": 10,
      "outputs": []
    },
    {
      "cell_type": "code",
      "metadata": {
        "colab": {
          "base_uri": "https://localhost:8080/"
        },
        "id": "zKEIFb1FQNz-",
        "outputId": "3895623e-0ea4-412f-827c-5516f95b16b9"
      },
      "source": [
        "df.count()"
      ],
      "execution_count": 11,
      "outputs": [
        {
          "output_type": "execute_result",
          "data": {
            "text/plain": [
              "county       4660423\n",
              "station      4660423\n",
              "latitude     4660423\n",
              "longitude    4660423\n",
              "rain         4660423\n",
              "temp         4660423\n",
              "wetb         4660423\n",
              "dewpt        4660423\n",
              "vappr        4660423\n",
              "rhum         4660423\n",
              "msl          4660423\n",
              "wdsp         4431391\n",
              "wddir        4431391\n",
              "sun          2075256\n",
              "vis          2075256\n",
              "clht         2075256\n",
              "clamt        2075256\n",
              "timestamp    4660423\n",
              "day          4660423\n",
              "month        4660423\n",
              "year         4660423\n",
              "hour         4660423\n",
              "dtype: int64"
            ]
          },
          "metadata": {
            "tags": []
          },
          "execution_count": 11
        }
      ]
    },
    {
      "cell_type": "code",
      "metadata": {
        "colab": {
          "base_uri": "https://localhost:8080/"
        },
        "id": "sCoHWoNUOBPh",
        "outputId": "868d2eab-22e6-4b05-86b7-581a6a70130d"
      },
      "source": [
        "df.info()"
      ],
      "execution_count": 12,
      "outputs": [
        {
          "output_type": "stream",
          "text": [
            "<class 'pandas.core.frame.DataFrame'>\n",
            "RangeIndex: 4660423 entries, 0 to 4660422\n",
            "Data columns (total 22 columns):\n",
            " #   Column     Dtype  \n",
            "---  ------     -----  \n",
            " 0   county     object \n",
            " 1   station    object \n",
            " 2   latitude   float64\n",
            " 3   longitude  float64\n",
            " 4   rain       object \n",
            " 5   temp       object \n",
            " 6   wetb       object \n",
            " 7   dewpt      object \n",
            " 8   vappr      object \n",
            " 9   rhum       object \n",
            " 10  msl        object \n",
            " 11  wdsp       object \n",
            " 12  wddir      object \n",
            " 13  sun        object \n",
            " 14  vis        object \n",
            " 15  clht       object \n",
            " 16  clamt      object \n",
            " 17  timestamp  object \n",
            " 18  day        object \n",
            " 19  month      object \n",
            " 20  year       object \n",
            " 21  hour       object \n",
            "dtypes: float64(2), object(20)\n",
            "memory usage: 782.2+ MB\n"
          ],
          "name": "stdout"
        }
      ]
    },
    {
      "cell_type": "code",
      "metadata": {
        "colab": {
          "base_uri": "https://localhost:8080/"
        },
        "id": "jvo0VA3OOacT",
        "outputId": "4408292b-3048-4280-d6f4-c5e74efa3ef5"
      },
      "source": [
        "df.isna().sum() / len(df)"
      ],
      "execution_count": 13,
      "outputs": [
        {
          "output_type": "execute_result",
          "data": {
            "text/plain": [
              "county       0.000000\n",
              "station      0.000000\n",
              "latitude     0.000000\n",
              "longitude    0.000000\n",
              "rain         0.000000\n",
              "temp         0.000000\n",
              "wetb         0.000000\n",
              "dewpt        0.000000\n",
              "vappr        0.000000\n",
              "rhum         0.000000\n",
              "msl          0.000000\n",
              "wdsp         0.049144\n",
              "wddir        0.049144\n",
              "sun          0.554707\n",
              "vis          0.554707\n",
              "clht         0.554707\n",
              "clamt        0.554707\n",
              "timestamp    0.000000\n",
              "day          0.000000\n",
              "month        0.000000\n",
              "year         0.000000\n",
              "hour         0.000000\n",
              "dtype: float64"
            ]
          },
          "metadata": {
            "tags": []
          },
          "execution_count": 13
        }
      ]
    },
    {
      "cell_type": "code",
      "metadata": {
        "id": "FkwzPRMROf-n"
      },
      "source": [
        "df.dropna(inplace=True)"
      ],
      "execution_count": 14,
      "outputs": []
    },
    {
      "cell_type": "code",
      "metadata": {
        "colab": {
          "base_uri": "https://localhost:8080/"
        },
        "id": "8uVPKWuZOifc",
        "outputId": "23cdcd83-00e6-4bb0-95bb-7d247cd458c5"
      },
      "source": [
        "df.isna().sum() / len(df)"
      ],
      "execution_count": 15,
      "outputs": [
        {
          "output_type": "execute_result",
          "data": {
            "text/plain": [
              "county       0.0\n",
              "station      0.0\n",
              "latitude     0.0\n",
              "longitude    0.0\n",
              "rain         0.0\n",
              "temp         0.0\n",
              "wetb         0.0\n",
              "dewpt        0.0\n",
              "vappr        0.0\n",
              "rhum         0.0\n",
              "msl          0.0\n",
              "wdsp         0.0\n",
              "wddir        0.0\n",
              "sun          0.0\n",
              "vis          0.0\n",
              "clht         0.0\n",
              "clamt        0.0\n",
              "timestamp    0.0\n",
              "day          0.0\n",
              "month        0.0\n",
              "year         0.0\n",
              "hour         0.0\n",
              "dtype: float64"
            ]
          },
          "metadata": {
            "tags": []
          },
          "execution_count": 15
        }
      ]
    },
    {
      "cell_type": "code",
      "metadata": {
        "colab": {
          "base_uri": "https://localhost:8080/",
          "height": 929
        },
        "id": "ifz75QZSLXjx",
        "outputId": "5e4567d9-1f1e-43fa-ef16-c4f93273611a"
      },
      "source": [
        "df_tmp = df.copy()\n",
        "# Correlation matrix\n",
        "\n",
        "corr_matrix = df.corr()\n",
        "fig, ax = plt.subplots(figsize=(30,20))\n",
        "ax = sns.heatmap(corr_matrix,\n",
        "                 annot=True,\n",
        "                 linewidth=0.5,\n",
        "                 fmt='.2f',\n",
        "                 cmap='YlGnBu')"
      ],
      "execution_count": 16,
      "outputs": [
        {
          "output_type": "display_data",
          "data": {
            "image/png": "[encoded data removed]",
            "text/plain": [
              "<Figure size 2160x1440 with 2 Axes>"
            ]
          },
          "metadata": {
            "tags": [],
            "needs_background": "light"
          }
        }
      ]
    },
    {
      "cell_type": "markdown",
      "metadata": {
        "id": "tVt5DMMpELHb"
      },
      "source": [
        " DATA PRE-PROCESSING\n",
        "\n",
        "Creating a new target column i.e. Rain_or_Not column."
      ]
    },
    {
      "cell_type": "code",
      "metadata": {
        "id": "vHbStgm6WqJW"
      },
      "source": [
        "df['rain'] = df['rain'].apply(pd.to_numeric,errors='coerce')"
      ],
      "execution_count": 17,
      "outputs": []
    },
    {
      "cell_type": "code",
      "metadata": {
        "id": "krtVmTWLPkkg"
      },
      "source": [
        "df['Rain_Or_Not'] = np.where(df['rain'] > 0, 1, 0)"
      ],
      "execution_count": 18,
      "outputs": []
    },
    {
      "cell_type": "markdown",
      "metadata": {
        "id": "L5vDAa7fLkBj"
      },
      "source": [
        "Droping latitue and longitute as they are not required "
      ]
    },
    {
      "cell_type": "code",
      "metadata": {
        "id": "7K9wMsmDRfvF"
      },
      "source": [
        "df.drop(columns=['latitude','longitude'],inplace=True) "
      ],
      "execution_count": 19,
      "outputs": []
    },
    {
      "cell_type": "code",
      "metadata": {
        "colab": {
          "base_uri": "https://localhost:8080/",
          "height": 359
        },
        "id": "q-GINwxIUHvx",
        "outputId": "f1f3dac9-30f2-45a0-cafe-ec6a7df79988"
      },
      "source": [
        "df.head(10)"
      ],
      "execution_count": 20,
      "outputs": [
        {
          "output_type": "execute_result",
          "data": {
            "text/html": [
              "<div>\n",
              "<style scoped>\n",
              "    .dataframe tbody tr th:only-of-type {\n",
              "        vertical-align: middle;\n",
              "    }\n",
              "\n",
              "    .dataframe tbody tr th {\n",
              "        vertical-align: top;\n",
              "    }\n",
              "\n",
              "    .dataframe thead th {\n",
              "        text-align: right;\n",
              "    }\n",
              "</style>\n",
              "<table border=\"1\" class=\"dataframe\">\n",
              "  <thead>\n",
              "    <tr style=\"text-align: right;\">\n",
              "      <th></th>\n",
              "      <th>county</th>\n",
              "      <th>station</th>\n",
              "      <th>rain</th>\n",
              "      <th>temp</th>\n",
              "      <th>wetb</th>\n",
              "      <th>dewpt</th>\n",
              "      <th>vappr</th>\n",
              "      <th>rhum</th>\n",
              "      <th>msl</th>\n",
              "      <th>wdsp</th>\n",
              "      <th>wddir</th>\n",
              "      <th>sun</th>\n",
              "      <th>vis</th>\n",
              "      <th>clht</th>\n",
              "      <th>clamt</th>\n",
              "      <th>timestamp</th>\n",
              "      <th>day</th>\n",
              "      <th>month</th>\n",
              "      <th>year</th>\n",
              "      <th>hour</th>\n",
              "      <th>Rain_Or_Not</th>\n",
              "    </tr>\n",
              "  </thead>\n",
              "  <tbody>\n",
              "    <tr>\n",
              "      <th>212016</th>\n",
              "      <td>Mayo</td>\n",
              "      <td>BELMULLET</td>\n",
              "      <td>0.0</td>\n",
              "      <td>7.6</td>\n",
              "      <td>7.1</td>\n",
              "      <td>6.5</td>\n",
              "      <td>9.7</td>\n",
              "      <td>93</td>\n",
              "      <td>1003</td>\n",
              "      <td>10</td>\n",
              "      <td>200</td>\n",
              "      <td>0</td>\n",
              "      <td>26000</td>\n",
              "      <td>16</td>\n",
              "      <td>8</td>\n",
              "      <td>00:00</td>\n",
              "      <td>01</td>\n",
              "      <td>jan</td>\n",
              "      <td>1990</td>\n",
              "      <td>00</td>\n",
              "      <td>0</td>\n",
              "    </tr>\n",
              "    <tr>\n",
              "      <th>212017</th>\n",
              "      <td>Mayo</td>\n",
              "      <td>BELMULLET</td>\n",
              "      <td>0.0</td>\n",
              "      <td>7.6</td>\n",
              "      <td>7.2</td>\n",
              "      <td>6.7</td>\n",
              "      <td>9.8</td>\n",
              "      <td>94</td>\n",
              "      <td>1003</td>\n",
              "      <td>10</td>\n",
              "      <td>190</td>\n",
              "      <td>0</td>\n",
              "      <td>19000</td>\n",
              "      <td>18</td>\n",
              "      <td>8</td>\n",
              "      <td>01:00</td>\n",
              "      <td>01</td>\n",
              "      <td>jan</td>\n",
              "      <td>1990</td>\n",
              "      <td>01</td>\n",
              "      <td>0</td>\n",
              "    </tr>\n",
              "    <tr>\n",
              "      <th>212018</th>\n",
              "      <td>Mayo</td>\n",
              "      <td>BELMULLET</td>\n",
              "      <td>0.0</td>\n",
              "      <td>7.8</td>\n",
              "      <td>7.2</td>\n",
              "      <td>6.5</td>\n",
              "      <td>9.7</td>\n",
              "      <td>91</td>\n",
              "      <td>1003.1</td>\n",
              "      <td>8</td>\n",
              "      <td>200</td>\n",
              "      <td>0</td>\n",
              "      <td>22000</td>\n",
              "      <td>18</td>\n",
              "      <td>7</td>\n",
              "      <td>02:00</td>\n",
              "      <td>01</td>\n",
              "      <td>jan</td>\n",
              "      <td>1990</td>\n",
              "      <td>02</td>\n",
              "      <td>0</td>\n",
              "    </tr>\n",
              "    <tr>\n",
              "      <th>212019</th>\n",
              "      <td>Mayo</td>\n",
              "      <td>BELMULLET</td>\n",
              "      <td>0.0</td>\n",
              "      <td>7.7</td>\n",
              "      <td>6.8</td>\n",
              "      <td>5.7</td>\n",
              "      <td>9.2</td>\n",
              "      <td>87</td>\n",
              "      <td>1003.4</td>\n",
              "      <td>12</td>\n",
              "      <td>220</td>\n",
              "      <td>0</td>\n",
              "      <td>26000</td>\n",
              "      <td>18</td>\n",
              "      <td>6</td>\n",
              "      <td>03:00</td>\n",
              "      <td>01</td>\n",
              "      <td>jan</td>\n",
              "      <td>1990</td>\n",
              "      <td>03</td>\n",
              "      <td>0</td>\n",
              "    </tr>\n",
              "    <tr>\n",
              "      <th>212020</th>\n",
              "      <td>Mayo</td>\n",
              "      <td>BELMULLET</td>\n",
              "      <td>0.5</td>\n",
              "      <td>7.5</td>\n",
              "      <td>6.5</td>\n",
              "      <td>5.3</td>\n",
              "      <td>8.9</td>\n",
              "      <td>86</td>\n",
              "      <td>1003.2</td>\n",
              "      <td>13</td>\n",
              "      <td>210</td>\n",
              "      <td>0</td>\n",
              "      <td>30000</td>\n",
              "      <td>999</td>\n",
              "      <td>3</td>\n",
              "      <td>04:00</td>\n",
              "      <td>01</td>\n",
              "      <td>jan</td>\n",
              "      <td>1990</td>\n",
              "      <td>04</td>\n",
              "      <td>1</td>\n",
              "    </tr>\n",
              "    <tr>\n",
              "      <th>212021</th>\n",
              "      <td>Mayo</td>\n",
              "      <td>BELMULLET</td>\n",
              "      <td>0.0</td>\n",
              "      <td>6.8</td>\n",
              "      <td>5.9</td>\n",
              "      <td>4.7</td>\n",
              "      <td>8.6</td>\n",
              "      <td>87</td>\n",
              "      <td>1003.9</td>\n",
              "      <td>9</td>\n",
              "      <td>220</td>\n",
              "      <td>0</td>\n",
              "      <td>30000</td>\n",
              "      <td>999</td>\n",
              "      <td>3</td>\n",
              "      <td>05:00</td>\n",
              "      <td>01</td>\n",
              "      <td>jan</td>\n",
              "      <td>1990</td>\n",
              "      <td>05</td>\n",
              "      <td>0</td>\n",
              "    </tr>\n",
              "    <tr>\n",
              "      <th>212022</th>\n",
              "      <td>Mayo</td>\n",
              "      <td>BELMULLET</td>\n",
              "      <td>0.0</td>\n",
              "      <td>5.8</td>\n",
              "      <td>4.9</td>\n",
              "      <td>3.7</td>\n",
              "      <td>7.9</td>\n",
              "      <td>86</td>\n",
              "      <td>1004.1</td>\n",
              "      <td>7</td>\n",
              "      <td>220</td>\n",
              "      <td>0</td>\n",
              "      <td>30000</td>\n",
              "      <td>999</td>\n",
              "      <td>3</td>\n",
              "      <td>06:00</td>\n",
              "      <td>01</td>\n",
              "      <td>jan</td>\n",
              "      <td>1990</td>\n",
              "      <td>06</td>\n",
              "      <td>0</td>\n",
              "    </tr>\n",
              "    <tr>\n",
              "      <th>212023</th>\n",
              "      <td>Mayo</td>\n",
              "      <td>BELMULLET</td>\n",
              "      <td>0.0</td>\n",
              "      <td>5.3</td>\n",
              "      <td>4.6</td>\n",
              "      <td>3.6</td>\n",
              "      <td>7.9</td>\n",
              "      <td>89</td>\n",
              "      <td>1004.7</td>\n",
              "      <td>8</td>\n",
              "      <td>220</td>\n",
              "      <td>0</td>\n",
              "      <td>30000</td>\n",
              "      <td>999</td>\n",
              "      <td>4</td>\n",
              "      <td>07:00</td>\n",
              "      <td>01</td>\n",
              "      <td>jan</td>\n",
              "      <td>1990</td>\n",
              "      <td>07</td>\n",
              "      <td>0</td>\n",
              "    </tr>\n",
              "    <tr>\n",
              "      <th>212024</th>\n",
              "      <td>Mayo</td>\n",
              "      <td>BELMULLET</td>\n",
              "      <td>0.0</td>\n",
              "      <td>6</td>\n",
              "      <td>5.4</td>\n",
              "      <td>4.6</td>\n",
              "      <td>8.5</td>\n",
              "      <td>91</td>\n",
              "      <td>1004.9</td>\n",
              "      <td>10</td>\n",
              "      <td>190</td>\n",
              "      <td>0</td>\n",
              "      <td>30000</td>\n",
              "      <td>999</td>\n",
              "      <td>2</td>\n",
              "      <td>08:00</td>\n",
              "      <td>01</td>\n",
              "      <td>jan</td>\n",
              "      <td>1990</td>\n",
              "      <td>08</td>\n",
              "      <td>0</td>\n",
              "    </tr>\n",
              "    <tr>\n",
              "      <th>212025</th>\n",
              "      <td>Mayo</td>\n",
              "      <td>BELMULLET</td>\n",
              "      <td>0.0</td>\n",
              "      <td>6.1</td>\n",
              "      <td>5.4</td>\n",
              "      <td>4.5</td>\n",
              "      <td>8.4</td>\n",
              "      <td>89</td>\n",
              "      <td>1005.4</td>\n",
              "      <td>12</td>\n",
              "      <td>200</td>\n",
              "      <td>0.1</td>\n",
              "      <td>20000</td>\n",
              "      <td>999</td>\n",
              "      <td>3</td>\n",
              "      <td>09:00</td>\n",
              "      <td>01</td>\n",
              "      <td>jan</td>\n",
              "      <td>1990</td>\n",
              "      <td>09</td>\n",
              "      <td>0</td>\n",
              "    </tr>\n",
              "  </tbody>\n",
              "</table>\n",
              "</div>"
            ],
            "text/plain": [
              "       county    station  rain temp wetb  ... day month  year hour Rain_Or_Not\n",
              "212016   Mayo  BELMULLET   0.0  7.6  7.1  ...  01   jan  1990   00           0\n",
              "212017   Mayo  BELMULLET   0.0  7.6  7.2  ...  01   jan  1990   01           0\n",
              "212018   Mayo  BELMULLET   0.0  7.8  7.2  ...  01   jan  1990   02           0\n",
              "212019   Mayo  BELMULLET   0.0  7.7  6.8  ...  01   jan  1990   03           0\n",
              "212020   Mayo  BELMULLET   0.5  7.5  6.5  ...  01   jan  1990   04           1\n",
              "212021   Mayo  BELMULLET   0.0  6.8  5.9  ...  01   jan  1990   05           0\n",
              "212022   Mayo  BELMULLET   0.0  5.8  4.9  ...  01   jan  1990   06           0\n",
              "212023   Mayo  BELMULLET   0.0  5.3  4.6  ...  01   jan  1990   07           0\n",
              "212024   Mayo  BELMULLET   0.0    6  5.4  ...  01   jan  1990   08           0\n",
              "212025   Mayo  BELMULLET   0.0  6.1  5.4  ...  01   jan  1990   09           0\n",
              "\n",
              "[10 rows x 21 columns]"
            ]
          },
          "metadata": {
            "tags": []
          },
          "execution_count": 20
        }
      ]
    },
    {
      "cell_type": "code",
      "metadata": {
        "colab": {
          "base_uri": "https://localhost:8080/"
        },
        "id": "yE6y5HR8cSE4",
        "outputId": "a80449af-ca41-4129-ef9d-8d73ef7379bd"
      },
      "source": [
        "df['Rain_Or_Not'].value_counts()"
      ],
      "execution_count": 21,
      "outputs": [
        {
          "output_type": "execute_result",
          "data": {
            "text/plain": [
              "0    1687131\n",
              "1     388125\n",
              "Name: Rain_Or_Not, dtype: int64"
            ]
          },
          "metadata": {
            "tags": []
          },
          "execution_count": 21
        }
      ]
    },
    {
      "cell_type": "markdown",
      "metadata": {
        "id": "4_hYw9LqGXX-"
      },
      "source": [
        "Visualization of the target column.\n",
        "\n",
        "1=Rain\n",
        "0=No rain"
      ]
    },
    {
      "cell_type": "code",
      "metadata": {
        "colab": {
          "base_uri": "https://localhost:8080/",
          "height": 308
        },
        "id": "r5bYKIFfbrOB",
        "outputId": "bda4b033-6588-448a-8cd5-cf3db2e10589"
      },
      "source": [
        "# visualize the target variable\n",
        "sns.countplot(x='Rain_Or_Not', data=df)"
      ],
      "execution_count": 22,
      "outputs": [
        {
          "output_type": "execute_result",
          "data": {
            "text/plain": [
              "<matplotlib.axes._subplots.AxesSubplot at 0x7f14f8cb9090>"
            ]
          },
          "metadata": {
            "tags": []
          },
          "execution_count": 22
        },
        {
          "output_type": "display_data",
          "data": {
            "image/png": "[encoded data removed]",
            "text/plain": [
              "<Figure size 432x288 with 1 Axes>"
            ]
          },
          "metadata": {
            "tags": [],
            "needs_background": "light"
          }
        }
      ]
    },
    {
      "cell_type": "markdown",
      "metadata": {
        "id": "brQdslVJG14H"
      },
      "source": [
        "Handling the imbalanced dataset using under-sampling."
      ]
    },
    {
      "cell_type": "code",
      "metadata": {
        "colab": {
          "base_uri": "https://localhost:8080/"
        },
        "id": "jRXuwez6fzHY",
        "outputId": "c153bdc7-ac72-407a-eedb-6ae4955b6590"
      },
      "source": [
        "from sklearn.utils import resample\n",
        "\n",
        "# Separate majority and minority classes\n",
        "df_majority = df[df.Rain_Or_Not==0]\n",
        "df_minority = df[df.Rain_Or_Not==1]\n",
        " \n",
        "# Downsample majority class\n",
        "df_majority_downsampled = resample(df_majority, \n",
        "                                 replace=False,    # sample without replacement\n",
        "                                 n_samples=388125,     # to match minority class\n",
        "                                 random_state=123) # reproducible results\n",
        " \n",
        "# Combine minority class with downsampled majority class\n",
        "df_downsampled = pd.concat([df_majority_downsampled, df_minority])\n",
        " \n",
        "# Display new class counts\n",
        "df_downsampled.Rain_Or_Not.value_counts()\n"
      ],
      "execution_count": 23,
      "outputs": [
        {
          "output_type": "execute_result",
          "data": {
            "text/plain": [
              "1    388125\n",
              "0    388125\n",
              "Name: Rain_Or_Not, dtype: int64"
            ]
          },
          "metadata": {
            "tags": []
          },
          "execution_count": 23
        }
      ]
    },
    {
      "cell_type": "code",
      "metadata": {
        "colab": {
          "base_uri": "https://localhost:8080/"
        },
        "id": "DEDpQYT1hAm_",
        "outputId": "383afc87-9c58-4cad-fc48-920b547c7381"
      },
      "source": [
        "df_downsampled['Rain_Or_Not'].value_counts()"
      ],
      "execution_count": 24,
      "outputs": [
        {
          "output_type": "execute_result",
          "data": {
            "text/plain": [
              "1    388125\n",
              "0    388125\n",
              "Name: Rain_Or_Not, dtype: int64"
            ]
          },
          "metadata": {
            "tags": []
          },
          "execution_count": 24
        }
      ]
    },
    {
      "cell_type": "code",
      "metadata": {
        "colab": {
          "base_uri": "https://localhost:8080/",
          "height": 478
        },
        "id": "YhIE3bkjhmet",
        "outputId": "cb7533ec-d5a7-425a-b7f8-f16a63a9b1bd"
      },
      "source": [
        "df_downsampled.head(10)"
      ],
      "execution_count": 25,
      "outputs": [
        {
          "output_type": "execute_result",
          "data": {
            "text/html": [
              "<div>\n",
              "<style scoped>\n",
              "    .dataframe tbody tr th:only-of-type {\n",
              "        vertical-align: middle;\n",
              "    }\n",
              "\n",
              "    .dataframe tbody tr th {\n",
              "        vertical-align: top;\n",
              "    }\n",
              "\n",
              "    .dataframe thead th {\n",
              "        text-align: right;\n",
              "    }\n",
              "</style>\n",
              "<table border=\"1\" class=\"dataframe\">\n",
              "  <thead>\n",
              "    <tr style=\"text-align: right;\">\n",
              "      <th></th>\n",
              "      <th>county</th>\n",
              "      <th>station</th>\n",
              "      <th>rain</th>\n",
              "      <th>temp</th>\n",
              "      <th>wetb</th>\n",
              "      <th>dewpt</th>\n",
              "      <th>vappr</th>\n",
              "      <th>rhum</th>\n",
              "      <th>msl</th>\n",
              "      <th>wdsp</th>\n",
              "      <th>wddir</th>\n",
              "      <th>sun</th>\n",
              "      <th>vis</th>\n",
              "      <th>clht</th>\n",
              "      <th>clamt</th>\n",
              "      <th>timestamp</th>\n",
              "      <th>day</th>\n",
              "      <th>month</th>\n",
              "      <th>year</th>\n",
              "      <th>hour</th>\n",
              "      <th>Rain_Or_Not</th>\n",
              "    </tr>\n",
              "  </thead>\n",
              "  <tbody>\n",
              "    <tr>\n",
              "      <th>738335</th>\n",
              "      <td>Dublin</td>\n",
              "      <td>CASEMENT</td>\n",
              "      <td>0.0</td>\n",
              "      <td>12.7</td>\n",
              "      <td>11.4</td>\n",
              "      <td>10.1</td>\n",
              "      <td>12.4</td>\n",
              "      <td>85</td>\n",
              "      <td>999.3</td>\n",
              "      <td>11</td>\n",
              "      <td>220</td>\n",
              "      <td>0</td>\n",
              "      <td>30000</td>\n",
              "      <td>70</td>\n",
              "      <td>6</td>\n",
              "      <td>22:00</td>\n",
              "      <td>17</td>\n",
              "      <td>aug</td>\n",
              "      <td>2019</td>\n",
              "      <td>22</td>\n",
              "      <td>0</td>\n",
              "    </tr>\n",
              "    <tr>\n",
              "      <th>2218554</th>\n",
              "      <td>Mayo</td>\n",
              "      <td>KNOCK AIRPORT</td>\n",
              "      <td>0.0</td>\n",
              "      <td>7.3</td>\n",
              "      <td>6.2</td>\n",
              "      <td>4.8</td>\n",
              "      <td>8.6</td>\n",
              "      <td>84</td>\n",
              "      <td>1036.2</td>\n",
              "      <td>10</td>\n",
              "      <td>180</td>\n",
              "      <td>0.4</td>\n",
              "      <td>15000</td>\n",
              "      <td>220</td>\n",
              "      <td>7</td>\n",
              "      <td>15:00</td>\n",
              "      <td>02</td>\n",
              "      <td>mar</td>\n",
              "      <td>2011</td>\n",
              "      <td>15</td>\n",
              "      <td>0</td>\n",
              "    </tr>\n",
              "    <tr>\n",
              "      <th>2259599</th>\n",
              "      <td>Mayo</td>\n",
              "      <td>KNOCK AIRPORT</td>\n",
              "      <td>0.0</td>\n",
              "      <td>7.6</td>\n",
              "      <td>7.2</td>\n",
              "      <td>6.6</td>\n",
              "      <td>9.8</td>\n",
              "      <td>94</td>\n",
              "      <td>1009.1</td>\n",
              "      <td>7</td>\n",
              "      <td>170</td>\n",
              "      <td>0</td>\n",
              "      <td></td>\n",
              "      <td>0</td>\n",
              "      <td>8</td>\n",
              "      <td>20:00</td>\n",
              "      <td>06</td>\n",
              "      <td>nov</td>\n",
              "      <td>2015</td>\n",
              "      <td>20</td>\n",
              "      <td>0</td>\n",
              "    </tr>\n",
              "    <tr>\n",
              "      <th>323243</th>\n",
              "      <td>Mayo</td>\n",
              "      <td>BELMULLET</td>\n",
              "      <td>0.0</td>\n",
              "      <td>17.2</td>\n",
              "      <td>14.3</td>\n",
              "      <td>12</td>\n",
              "      <td>14</td>\n",
              "      <td>71</td>\n",
              "      <td>1008</td>\n",
              "      <td>13</td>\n",
              "      <td>150</td>\n",
              "      <td>1</td>\n",
              "      <td>45000</td>\n",
              "      <td>999</td>\n",
              "      <td>3</td>\n",
              "      <td>11:00</td>\n",
              "      <td>09</td>\n",
              "      <td>sep</td>\n",
              "      <td>2002</td>\n",
              "      <td>11</td>\n",
              "      <td>0</td>\n",
              "    </tr>\n",
              "    <tr>\n",
              "      <th>450111</th>\n",
              "      <td>Mayo</td>\n",
              "      <td>BELMULLET</td>\n",
              "      <td>0.0</td>\n",
              "      <td>8.7</td>\n",
              "      <td>6.7</td>\n",
              "      <td>4.1</td>\n",
              "      <td>8.2</td>\n",
              "      <td>72</td>\n",
              "      <td>992.7</td>\n",
              "      <td>22</td>\n",
              "      <td>310</td>\n",
              "      <td></td>\n",
              "      <td></td>\n",
              "      <td></td>\n",
              "      <td></td>\n",
              "      <td>15:00</td>\n",
              "      <td>28</td>\n",
              "      <td>feb</td>\n",
              "      <td>2017</td>\n",
              "      <td>15</td>\n",
              "      <td>0</td>\n",
              "    </tr>\n",
              "    <tr>\n",
              "      <th>4132926</th>\n",
              "      <td>Clare</td>\n",
              "      <td>SHANNON AIRPORT</td>\n",
              "      <td>0.0</td>\n",
              "      <td>12.8</td>\n",
              "      <td>12.1</td>\n",
              "      <td>11.4</td>\n",
              "      <td>13.5</td>\n",
              "      <td>92</td>\n",
              "      <td>998.5</td>\n",
              "      <td>8</td>\n",
              "      <td>130</td>\n",
              "      <td>0</td>\n",
              "      <td>18000</td>\n",
              "      <td>90</td>\n",
              "      <td>7</td>\n",
              "      <td>00:00</td>\n",
              "      <td>29</td>\n",
              "      <td>sep</td>\n",
              "      <td>2006</td>\n",
              "      <td>00</td>\n",
              "      <td>0</td>\n",
              "    </tr>\n",
              "    <tr>\n",
              "      <th>4631470</th>\n",
              "      <td>Kerry</td>\n",
              "      <td>VALENTIA OBSERVATORY</td>\n",
              "      <td>0.0</td>\n",
              "      <td>8.1</td>\n",
              "      <td>4.7</td>\n",
              "      <td>-0.8</td>\n",
              "      <td>5.8</td>\n",
              "      <td>53</td>\n",
              "      <td>1024.5</td>\n",
              "      <td>6</td>\n",
              "      <td>80</td>\n",
              "      <td></td>\n",
              "      <td></td>\n",
              "      <td></td>\n",
              "      <td></td>\n",
              "      <td>16:00</td>\n",
              "      <td>10</td>\n",
              "      <td>feb</td>\n",
              "      <td>2017</td>\n",
              "      <td>16</td>\n",
              "      <td>0</td>\n",
              "    </tr>\n",
              "    <tr>\n",
              "      <th>1516568</th>\n",
              "      <td>Dublin</td>\n",
              "      <td>DUBLIN AIRPORT</td>\n",
              "      <td>0.0</td>\n",
              "      <td>7.3</td>\n",
              "      <td>4.9</td>\n",
              "      <td>1.5</td>\n",
              "      <td>6.7</td>\n",
              "      <td>66</td>\n",
              "      <td>993.8</td>\n",
              "      <td>10</td>\n",
              "      <td>210</td>\n",
              "      <td>0</td>\n",
              "      <td>25000</td>\n",
              "      <td>42</td>\n",
              "      <td>7</td>\n",
              "      <td>17:00</td>\n",
              "      <td>01</td>\n",
              "      <td>mar</td>\n",
              "      <td>2017</td>\n",
              "      <td>17</td>\n",
              "      <td>0</td>\n",
              "    </tr>\n",
              "    <tr>\n",
              "      <th>1393721</th>\n",
              "      <td>Dublin</td>\n",
              "      <td>DUBLIN AIRPORT</td>\n",
              "      <td>0.0</td>\n",
              "      <td>7.7</td>\n",
              "      <td>6.7</td>\n",
              "      <td>5.5</td>\n",
              "      <td>9</td>\n",
              "      <td>86</td>\n",
              "      <td>1013.4</td>\n",
              "      <td>15</td>\n",
              "      <td>120</td>\n",
              "      <td>0</td>\n",
              "      <td>9000</td>\n",
              "      <td>200</td>\n",
              "      <td>7</td>\n",
              "      <td>02:00</td>\n",
              "      <td>25</td>\n",
              "      <td>feb</td>\n",
              "      <td>2003</td>\n",
              "      <td>02</td>\n",
              "      <td>0</td>\n",
              "    </tr>\n",
              "    <tr>\n",
              "      <th>1114251</th>\n",
              "      <td>Cork</td>\n",
              "      <td>CORK AIRPORT</td>\n",
              "      <td>0.0</td>\n",
              "      <td>19.6</td>\n",
              "      <td>15.8</td>\n",
              "      <td>12.9</td>\n",
              "      <td>14.9</td>\n",
              "      <td>65</td>\n",
              "      <td>1022.3</td>\n",
              "      <td>23</td>\n",
              "      <td>300</td>\n",
              "      <td>1</td>\n",
              "      <td>50000</td>\n",
              "      <td>250</td>\n",
              "      <td>5</td>\n",
              "      <td>13:00</td>\n",
              "      <td>07</td>\n",
              "      <td>sep</td>\n",
              "      <td>2001</td>\n",
              "      <td>13</td>\n",
              "      <td>0</td>\n",
              "    </tr>\n",
              "  </tbody>\n",
              "</table>\n",
              "</div>"
            ],
            "text/plain": [
              "         county               station  rain  temp  ... month  year hour Rain_Or_Not\n",
              "738335   Dublin              CASEMENT   0.0  12.7  ...   aug  2019   22           0\n",
              "2218554    Mayo         KNOCK AIRPORT   0.0   7.3  ...   mar  2011   15           0\n",
              "2259599    Mayo         KNOCK AIRPORT   0.0   7.6  ...   nov  2015   20           0\n",
              "323243     Mayo             BELMULLET   0.0  17.2  ...   sep  2002   11           0\n",
              "450111     Mayo             BELMULLET   0.0   8.7  ...   feb  2017   15           0\n",
              "4132926   Clare       SHANNON AIRPORT   0.0  12.8  ...   sep  2006   00           0\n",
              "4631470   Kerry  VALENTIA OBSERVATORY   0.0   8.1  ...   feb  2017   16           0\n",
              "1516568  Dublin        DUBLIN AIRPORT   0.0   7.3  ...   mar  2017   17           0\n",
              "1393721  Dublin        DUBLIN AIRPORT   0.0   7.7  ...   feb  2003   02           0\n",
              "1114251    Cork          CORK AIRPORT   0.0  19.6  ...   sep  2001   13           0\n",
              "\n",
              "[10 rows x 21 columns]"
            ]
          },
          "metadata": {
            "tags": []
          },
          "execution_count": 25
        }
      ]
    },
    {
      "cell_type": "code",
      "metadata": {
        "colab": {
          "base_uri": "https://localhost:8080/"
        },
        "id": "Qdacjlagh8Vv",
        "outputId": "599b9657-3ff8-4623-db99-11562d195f50"
      },
      "source": [
        "df_downsampled.isna().sum() / len(df)"
      ],
      "execution_count": 26,
      "outputs": [
        {
          "output_type": "execute_result",
          "data": {
            "text/plain": [
              "county         0.000000\n",
              "station        0.000000\n",
              "rain           0.000017\n",
              "temp           0.000000\n",
              "wetb           0.000000\n",
              "dewpt          0.000000\n",
              "vappr          0.000000\n",
              "rhum           0.000000\n",
              "msl            0.000000\n",
              "wdsp           0.000000\n",
              "wddir          0.000000\n",
              "sun            0.000000\n",
              "vis            0.000000\n",
              "clht           0.000000\n",
              "clamt          0.000000\n",
              "timestamp      0.000000\n",
              "day            0.000000\n",
              "month          0.000000\n",
              "year           0.000000\n",
              "hour           0.000000\n",
              "Rain_Or_Not    0.000000\n",
              "dtype: float64"
            ]
          },
          "metadata": {
            "tags": []
          },
          "execution_count": 26
        }
      ]
    },
    {
      "cell_type": "code",
      "metadata": {
        "id": "mCNmhvUoiIEu"
      },
      "source": [
        "df_downsampled.dropna(inplace=True)"
      ],
      "execution_count": 27,
      "outputs": []
    },
    {
      "cell_type": "code",
      "metadata": {
        "colab": {
          "base_uri": "https://localhost:8080/",
          "height": 478
        },
        "id": "pMaSUuM7iNDi",
        "outputId": "0bde763a-5548-4ed3-8fb3-c8089c09f57d"
      },
      "source": [
        "df_downsampled.head(10)"
      ],
      "execution_count": 28,
      "outputs": [
        {
          "output_type": "execute_result",
          "data": {
            "text/html": [
              "<div>\n",
              "<style scoped>\n",
              "    .dataframe tbody tr th:only-of-type {\n",
              "        vertical-align: middle;\n",
              "    }\n",
              "\n",
              "    .dataframe tbody tr th {\n",
              "        vertical-align: top;\n",
              "    }\n",
              "\n",
              "    .dataframe thead th {\n",
              "        text-align: right;\n",
              "    }\n",
              "</style>\n",
              "<table border=\"1\" class=\"dataframe\">\n",
              "  <thead>\n",
              "    <tr style=\"text-align: right;\">\n",
              "      <th></th>\n",
              "      <th>county</th>\n",
              "      <th>station</th>\n",
              "      <th>rain</th>\n",
              "      <th>temp</th>\n",
              "      <th>wetb</th>\n",
              "      <th>dewpt</th>\n",
              "      <th>vappr</th>\n",
              "      <th>rhum</th>\n",
              "      <th>msl</th>\n",
              "      <th>wdsp</th>\n",
              "      <th>wddir</th>\n",
              "      <th>sun</th>\n",
              "      <th>vis</th>\n",
              "      <th>clht</th>\n",
              "      <th>clamt</th>\n",
              "      <th>timestamp</th>\n",
              "      <th>day</th>\n",
              "      <th>month</th>\n",
              "      <th>year</th>\n",
              "      <th>hour</th>\n",
              "      <th>Rain_Or_Not</th>\n",
              "    </tr>\n",
              "  </thead>\n",
              "  <tbody>\n",
              "    <tr>\n",
              "      <th>738335</th>\n",
              "      <td>Dublin</td>\n",
              "      <td>CASEMENT</td>\n",
              "      <td>0.0</td>\n",
              "      <td>12.7</td>\n",
              "      <td>11.4</td>\n",
              "      <td>10.1</td>\n",
              "      <td>12.4</td>\n",
              "      <td>85</td>\n",
              "      <td>999.3</td>\n",
              "      <td>11</td>\n",
              "      <td>220</td>\n",
              "      <td>0</td>\n",
              "      <td>30000</td>\n",
              "      <td>70</td>\n",
              "      <td>6</td>\n",
              "      <td>22:00</td>\n",
              "      <td>17</td>\n",
              "      <td>aug</td>\n",
              "      <td>2019</td>\n",
              "      <td>22</td>\n",
              "      <td>0</td>\n",
              "    </tr>\n",
              "    <tr>\n",
              "      <th>2218554</th>\n",
              "      <td>Mayo</td>\n",
              "      <td>KNOCK AIRPORT</td>\n",
              "      <td>0.0</td>\n",
              "      <td>7.3</td>\n",
              "      <td>6.2</td>\n",
              "      <td>4.8</td>\n",
              "      <td>8.6</td>\n",
              "      <td>84</td>\n",
              "      <td>1036.2</td>\n",
              "      <td>10</td>\n",
              "      <td>180</td>\n",
              "      <td>0.4</td>\n",
              "      <td>15000</td>\n",
              "      <td>220</td>\n",
              "      <td>7</td>\n",
              "      <td>15:00</td>\n",
              "      <td>02</td>\n",
              "      <td>mar</td>\n",
              "      <td>2011</td>\n",
              "      <td>15</td>\n",
              "      <td>0</td>\n",
              "    </tr>\n",
              "    <tr>\n",
              "      <th>2259599</th>\n",
              "      <td>Mayo</td>\n",
              "      <td>KNOCK AIRPORT</td>\n",
              "      <td>0.0</td>\n",
              "      <td>7.6</td>\n",
              "      <td>7.2</td>\n",
              "      <td>6.6</td>\n",
              "      <td>9.8</td>\n",
              "      <td>94</td>\n",
              "      <td>1009.1</td>\n",
              "      <td>7</td>\n",
              "      <td>170</td>\n",
              "      <td>0</td>\n",
              "      <td></td>\n",
              "      <td>0</td>\n",
              "      <td>8</td>\n",
              "      <td>20:00</td>\n",
              "      <td>06</td>\n",
              "      <td>nov</td>\n",
              "      <td>2015</td>\n",
              "      <td>20</td>\n",
              "      <td>0</td>\n",
              "    </tr>\n",
              "    <tr>\n",
              "      <th>323243</th>\n",
              "      <td>Mayo</td>\n",
              "      <td>BELMULLET</td>\n",
              "      <td>0.0</td>\n",
              "      <td>17.2</td>\n",
              "      <td>14.3</td>\n",
              "      <td>12</td>\n",
              "      <td>14</td>\n",
              "      <td>71</td>\n",
              "      <td>1008</td>\n",
              "      <td>13</td>\n",
              "      <td>150</td>\n",
              "      <td>1</td>\n",
              "      <td>45000</td>\n",
              "      <td>999</td>\n",
              "      <td>3</td>\n",
              "      <td>11:00</td>\n",
              "      <td>09</td>\n",
              "      <td>sep</td>\n",
              "      <td>2002</td>\n",
              "      <td>11</td>\n",
              "      <td>0</td>\n",
              "    </tr>\n",
              "    <tr>\n",
              "      <th>450111</th>\n",
              "      <td>Mayo</td>\n",
              "      <td>BELMULLET</td>\n",
              "      <td>0.0</td>\n",
              "      <td>8.7</td>\n",
              "      <td>6.7</td>\n",
              "      <td>4.1</td>\n",
              "      <td>8.2</td>\n",
              "      <td>72</td>\n",
              "      <td>992.7</td>\n",
              "      <td>22</td>\n",
              "      <td>310</td>\n",
              "      <td></td>\n",
              "      <td></td>\n",
              "      <td></td>\n",
              "      <td></td>\n",
              "      <td>15:00</td>\n",
              "      <td>28</td>\n",
              "      <td>feb</td>\n",
              "      <td>2017</td>\n",
              "      <td>15</td>\n",
              "      <td>0</td>\n",
              "    </tr>\n",
              "    <tr>\n",
              "      <th>4132926</th>\n",
              "      <td>Clare</td>\n",
              "      <td>SHANNON AIRPORT</td>\n",
              "      <td>0.0</td>\n",
              "      <td>12.8</td>\n",
              "      <td>12.1</td>\n",
              "      <td>11.4</td>\n",
              "      <td>13.5</td>\n",
              "      <td>92</td>\n",
              "      <td>998.5</td>\n",
              "      <td>8</td>\n",
              "      <td>130</td>\n",
              "      <td>0</td>\n",
              "      <td>18000</td>\n",
              "      <td>90</td>\n",
              "      <td>7</td>\n",
              "      <td>00:00</td>\n",
              "      <td>29</td>\n",
              "      <td>sep</td>\n",
              "      <td>2006</td>\n",
              "      <td>00</td>\n",
              "      <td>0</td>\n",
              "    </tr>\n",
              "    <tr>\n",
              "      <th>4631470</th>\n",
              "      <td>Kerry</td>\n",
              "      <td>VALENTIA OBSERVATORY</td>\n",
              "      <td>0.0</td>\n",
              "      <td>8.1</td>\n",
              "      <td>4.7</td>\n",
              "      <td>-0.8</td>\n",
              "      <td>5.8</td>\n",
              "      <td>53</td>\n",
              "      <td>1024.5</td>\n",
              "      <td>6</td>\n",
              "      <td>80</td>\n",
              "      <td></td>\n",
              "      <td></td>\n",
              "      <td></td>\n",
              "      <td></td>\n",
              "      <td>16:00</td>\n",
              "      <td>10</td>\n",
              "      <td>feb</td>\n",
              "      <td>2017</td>\n",
              "      <td>16</td>\n",
              "      <td>0</td>\n",
              "    </tr>\n",
              "    <tr>\n",
              "      <th>1516568</th>\n",
              "      <td>Dublin</td>\n",
              "      <td>DUBLIN AIRPORT</td>\n",
              "      <td>0.0</td>\n",
              "      <td>7.3</td>\n",
              "      <td>4.9</td>\n",
              "      <td>1.5</td>\n",
              "      <td>6.7</td>\n",
              "      <td>66</td>\n",
              "      <td>993.8</td>\n",
              "      <td>10</td>\n",
              "      <td>210</td>\n",
              "      <td>0</td>\n",
              "      <td>25000</td>\n",
              "      <td>42</td>\n",
              "      <td>7</td>\n",
              "      <td>17:00</td>\n",
              "      <td>01</td>\n",
              "      <td>mar</td>\n",
              "      <td>2017</td>\n",
              "      <td>17</td>\n",
              "      <td>0</td>\n",
              "    </tr>\n",
              "    <tr>\n",
              "      <th>1393721</th>\n",
              "      <td>Dublin</td>\n",
              "      <td>DUBLIN AIRPORT</td>\n",
              "      <td>0.0</td>\n",
              "      <td>7.7</td>\n",
              "      <td>6.7</td>\n",
              "      <td>5.5</td>\n",
              "      <td>9</td>\n",
              "      <td>86</td>\n",
              "      <td>1013.4</td>\n",
              "      <td>15</td>\n",
              "      <td>120</td>\n",
              "      <td>0</td>\n",
              "      <td>9000</td>\n",
              "      <td>200</td>\n",
              "      <td>7</td>\n",
              "      <td>02:00</td>\n",
              "      <td>25</td>\n",
              "      <td>feb</td>\n",
              "      <td>2003</td>\n",
              "      <td>02</td>\n",
              "      <td>0</td>\n",
              "    </tr>\n",
              "    <tr>\n",
              "      <th>1114251</th>\n",
              "      <td>Cork</td>\n",
              "      <td>CORK AIRPORT</td>\n",
              "      <td>0.0</td>\n",
              "      <td>19.6</td>\n",
              "      <td>15.8</td>\n",
              "      <td>12.9</td>\n",
              "      <td>14.9</td>\n",
              "      <td>65</td>\n",
              "      <td>1022.3</td>\n",
              "      <td>23</td>\n",
              "      <td>300</td>\n",
              "      <td>1</td>\n",
              "      <td>50000</td>\n",
              "      <td>250</td>\n",
              "      <td>5</td>\n",
              "      <td>13:00</td>\n",
              "      <td>07</td>\n",
              "      <td>sep</td>\n",
              "      <td>2001</td>\n",
              "      <td>13</td>\n",
              "      <td>0</td>\n",
              "    </tr>\n",
              "  </tbody>\n",
              "</table>\n",
              "</div>"
            ],
            "text/plain": [
              "         county               station  rain  temp  ... month  year hour Rain_Or_Not\n",
              "738335   Dublin              CASEMENT   0.0  12.7  ...   aug  2019   22           0\n",
              "2218554    Mayo         KNOCK AIRPORT   0.0   7.3  ...   mar  2011   15           0\n",
              "2259599    Mayo         KNOCK AIRPORT   0.0   7.6  ...   nov  2015   20           0\n",
              "323243     Mayo             BELMULLET   0.0  17.2  ...   sep  2002   11           0\n",
              "450111     Mayo             BELMULLET   0.0   8.7  ...   feb  2017   15           0\n",
              "4132926   Clare       SHANNON AIRPORT   0.0  12.8  ...   sep  2006   00           0\n",
              "4631470   Kerry  VALENTIA OBSERVATORY   0.0   8.1  ...   feb  2017   16           0\n",
              "1516568  Dublin        DUBLIN AIRPORT   0.0   7.3  ...   mar  2017   17           0\n",
              "1393721  Dublin        DUBLIN AIRPORT   0.0   7.7  ...   feb  2003   02           0\n",
              "1114251    Cork          CORK AIRPORT   0.0  19.6  ...   sep  2001   13           0\n",
              "\n",
              "[10 rows x 21 columns]"
            ]
          },
          "metadata": {
            "tags": []
          },
          "execution_count": 28
        }
      ]
    },
    {
      "cell_type": "code",
      "metadata": {
        "id": "bkKYiV8eiTzZ"
      },
      "source": [
        "df_downsampled.drop(columns=['sun','vis',\t'clht',\t'clamt'],inplace=True) "
      ],
      "execution_count": 29,
      "outputs": []
    },
    {
      "cell_type": "code",
      "metadata": {
        "colab": {
          "base_uri": "https://localhost:8080/",
          "height": 297
        },
        "id": "tG6_tiQcMTJC",
        "outputId": "b70a56ff-44d3-4e98-f0f4-87d23c902312"
      },
      "source": [
        "sns.countplot(x='Rain_Or_Not', data=df_downsampled)"
      ],
      "execution_count": 30,
      "outputs": [
        {
          "output_type": "execute_result",
          "data": {
            "text/plain": [
              "<matplotlib.axes._subplots.AxesSubplot at 0x7f1532daebd0>"
            ]
          },
          "metadata": {
            "tags": []
          },
          "execution_count": 30
        },
        {
          "output_type": "display_data",
          "data": {
            "image/png": "[encoded data removed]",
            "text/plain": [
              "<Figure size 432x288 with 1 Axes>"
            ]
          },
          "metadata": {
            "tags": [],
            "needs_background": "light"
          }
        }
      ]
    },
    {
      "cell_type": "code",
      "metadata": {
        "id": "JceQHsIWihp0"
      },
      "source": [
        "df = df_downsampled.copy()\n"
      ],
      "execution_count": 31,
      "outputs": []
    },
    {
      "cell_type": "code",
      "metadata": {
        "colab": {
          "base_uri": "https://localhost:8080/"
        },
        "id": "mOTgAfgste3r",
        "outputId": "98436708-1ea4-4b76-c90f-c234f88f32ef"
      },
      "source": [
        "df.isna().sum() / len(df)"
      ],
      "execution_count": 32,
      "outputs": [
        {
          "output_type": "execute_result",
          "data": {
            "text/plain": [
              "county         0.0\n",
              "station        0.0\n",
              "rain           0.0\n",
              "temp           0.0\n",
              "wetb           0.0\n",
              "dewpt          0.0\n",
              "vappr          0.0\n",
              "rhum           0.0\n",
              "msl            0.0\n",
              "wdsp           0.0\n",
              "wddir          0.0\n",
              "timestamp      0.0\n",
              "day            0.0\n",
              "month          0.0\n",
              "year           0.0\n",
              "hour           0.0\n",
              "Rain_Or_Not    0.0\n",
              "dtype: float64"
            ]
          },
          "metadata": {
            "tags": []
          },
          "execution_count": 32
        }
      ]
    },
    {
      "cell_type": "code",
      "metadata": {
        "id": "EaFLaShotmDr"
      },
      "source": [
        "df.dropna(inplace=True)"
      ],
      "execution_count": 33,
      "outputs": []
    },
    {
      "cell_type": "code",
      "metadata": {
        "colab": {
          "base_uri": "https://localhost:8080/",
          "height": 359
        },
        "id": "SDbDSpvIin1f",
        "outputId": "95381c8c-0282-41c3-c398-78b73c71f7a6"
      },
      "source": [
        "df.head(10)"
      ],
      "execution_count": 34,
      "outputs": [
        {
          "output_type": "execute_result",
          "data": {
            "text/html": [
              "<div>\n",
              "<style scoped>\n",
              "    .dataframe tbody tr th:only-of-type {\n",
              "        vertical-align: middle;\n",
              "    }\n",
              "\n",
              "    .dataframe tbody tr th {\n",
              "        vertical-align: top;\n",
              "    }\n",
              "\n",
              "    .dataframe thead th {\n",
              "        text-align: right;\n",
              "    }\n",
              "</style>\n",
              "<table border=\"1\" class=\"dataframe\">\n",
              "  <thead>\n",
              "    <tr style=\"text-align: right;\">\n",
              "      <th></th>\n",
              "      <th>county</th>\n",
              "      <th>station</th>\n",
              "      <th>rain</th>\n",
              "      <th>temp</th>\n",
              "      <th>wetb</th>\n",
              "      <th>dewpt</th>\n",
              "      <th>vappr</th>\n",
              "      <th>rhum</th>\n",
              "      <th>msl</th>\n",
              "      <th>wdsp</th>\n",
              "      <th>wddir</th>\n",
              "      <th>timestamp</th>\n",
              "      <th>day</th>\n",
              "      <th>month</th>\n",
              "      <th>year</th>\n",
              "      <th>hour</th>\n",
              "      <th>Rain_Or_Not</th>\n",
              "    </tr>\n",
              "  </thead>\n",
              "  <tbody>\n",
              "    <tr>\n",
              "      <th>738335</th>\n",
              "      <td>Dublin</td>\n",
              "      <td>CASEMENT</td>\n",
              "      <td>0.0</td>\n",
              "      <td>12.7</td>\n",
              "      <td>11.4</td>\n",
              "      <td>10.1</td>\n",
              "      <td>12.4</td>\n",
              "      <td>85</td>\n",
              "      <td>999.3</td>\n",
              "      <td>11</td>\n",
              "      <td>220</td>\n",
              "      <td>22:00</td>\n",
              "      <td>17</td>\n",
              "      <td>aug</td>\n",
              "      <td>2019</td>\n",
              "      <td>22</td>\n",
              "      <td>0</td>\n",
              "    </tr>\n",
              "    <tr>\n",
              "      <th>2218554</th>\n",
              "      <td>Mayo</td>\n",
              "      <td>KNOCK AIRPORT</td>\n",
              "      <td>0.0</td>\n",
              "      <td>7.3</td>\n",
              "      <td>6.2</td>\n",
              "      <td>4.8</td>\n",
              "      <td>8.6</td>\n",
              "      <td>84</td>\n",
              "      <td>1036.2</td>\n",
              "      <td>10</td>\n",
              "      <td>180</td>\n",
              "      <td>15:00</td>\n",
              "      <td>02</td>\n",
              "      <td>mar</td>\n",
              "      <td>2011</td>\n",
              "      <td>15</td>\n",
              "      <td>0</td>\n",
              "    </tr>\n",
              "    <tr>\n",
              "      <th>2259599</th>\n",
              "      <td>Mayo</td>\n",
              "      <td>KNOCK AIRPORT</td>\n",
              "      <td>0.0</td>\n",
              "      <td>7.6</td>\n",
              "      <td>7.2</td>\n",
              "      <td>6.6</td>\n",
              "      <td>9.8</td>\n",
              "      <td>94</td>\n",
              "      <td>1009.1</td>\n",
              "      <td>7</td>\n",
              "      <td>170</td>\n",
              "      <td>20:00</td>\n",
              "      <td>06</td>\n",
              "      <td>nov</td>\n",
              "      <td>2015</td>\n",
              "      <td>20</td>\n",
              "      <td>0</td>\n",
              "    </tr>\n",
              "    <tr>\n",
              "      <th>323243</th>\n",
              "      <td>Mayo</td>\n",
              "      <td>BELMULLET</td>\n",
              "      <td>0.0</td>\n",
              "      <td>17.2</td>\n",
              "      <td>14.3</td>\n",
              "      <td>12</td>\n",
              "      <td>14</td>\n",
              "      <td>71</td>\n",
              "      <td>1008</td>\n",
              "      <td>13</td>\n",
              "      <td>150</td>\n",
              "      <td>11:00</td>\n",
              "      <td>09</td>\n",
              "      <td>sep</td>\n",
              "      <td>2002</td>\n",
              "      <td>11</td>\n",
              "      <td>0</td>\n",
              "    </tr>\n",
              "    <tr>\n",
              "      <th>450111</th>\n",
              "      <td>Mayo</td>\n",
              "      <td>BELMULLET</td>\n",
              "      <td>0.0</td>\n",
              "      <td>8.7</td>\n",
              "      <td>6.7</td>\n",
              "      <td>4.1</td>\n",
              "      <td>8.2</td>\n",
              "      <td>72</td>\n",
              "      <td>992.7</td>\n",
              "      <td>22</td>\n",
              "      <td>310</td>\n",
              "      <td>15:00</td>\n",
              "      <td>28</td>\n",
              "      <td>feb</td>\n",
              "      <td>2017</td>\n",
              "      <td>15</td>\n",
              "      <td>0</td>\n",
              "    </tr>\n",
              "    <tr>\n",
              "      <th>4132926</th>\n",
              "      <td>Clare</td>\n",
              "      <td>SHANNON AIRPORT</td>\n",
              "      <td>0.0</td>\n",
              "      <td>12.8</td>\n",
              "      <td>12.1</td>\n",
              "      <td>11.4</td>\n",
              "      <td>13.5</td>\n",
              "      <td>92</td>\n",
              "      <td>998.5</td>\n",
              "      <td>8</td>\n",
              "      <td>130</td>\n",
              "      <td>00:00</td>\n",
              "      <td>29</td>\n",
              "      <td>sep</td>\n",
              "      <td>2006</td>\n",
              "      <td>00</td>\n",
              "      <td>0</td>\n",
              "    </tr>\n",
              "    <tr>\n",
              "      <th>4631470</th>\n",
              "      <td>Kerry</td>\n",
              "      <td>VALENTIA OBSERVATORY</td>\n",
              "      <td>0.0</td>\n",
              "      <td>8.1</td>\n",
              "      <td>4.7</td>\n",
              "      <td>-0.8</td>\n",
              "      <td>5.8</td>\n",
              "      <td>53</td>\n",
              "      <td>1024.5</td>\n",
              "      <td>6</td>\n",
              "      <td>80</td>\n",
              "      <td>16:00</td>\n",
              "      <td>10</td>\n",
              "      <td>feb</td>\n",
              "      <td>2017</td>\n",
              "      <td>16</td>\n",
              "      <td>0</td>\n",
              "    </tr>\n",
              "    <tr>\n",
              "      <th>1516568</th>\n",
              "      <td>Dublin</td>\n",
              "      <td>DUBLIN AIRPORT</td>\n",
              "      <td>0.0</td>\n",
              "      <td>7.3</td>\n",
              "      <td>4.9</td>\n",
              "      <td>1.5</td>\n",
              "      <td>6.7</td>\n",
              "      <td>66</td>\n",
              "      <td>993.8</td>\n",
              "      <td>10</td>\n",
              "      <td>210</td>\n",
              "      <td>17:00</td>\n",
              "      <td>01</td>\n",
              "      <td>mar</td>\n",
              "      <td>2017</td>\n",
              "      <td>17</td>\n",
              "      <td>0</td>\n",
              "    </tr>\n",
              "    <tr>\n",
              "      <th>1393721</th>\n",
              "      <td>Dublin</td>\n",
              "      <td>DUBLIN AIRPORT</td>\n",
              "      <td>0.0</td>\n",
              "      <td>7.7</td>\n",
              "      <td>6.7</td>\n",
              "      <td>5.5</td>\n",
              "      <td>9</td>\n",
              "      <td>86</td>\n",
              "      <td>1013.4</td>\n",
              "      <td>15</td>\n",
              "      <td>120</td>\n",
              "      <td>02:00</td>\n",
              "      <td>25</td>\n",
              "      <td>feb</td>\n",
              "      <td>2003</td>\n",
              "      <td>02</td>\n",
              "      <td>0</td>\n",
              "    </tr>\n",
              "    <tr>\n",
              "      <th>1114251</th>\n",
              "      <td>Cork</td>\n",
              "      <td>CORK AIRPORT</td>\n",
              "      <td>0.0</td>\n",
              "      <td>19.6</td>\n",
              "      <td>15.8</td>\n",
              "      <td>12.9</td>\n",
              "      <td>14.9</td>\n",
              "      <td>65</td>\n",
              "      <td>1022.3</td>\n",
              "      <td>23</td>\n",
              "      <td>300</td>\n",
              "      <td>13:00</td>\n",
              "      <td>07</td>\n",
              "      <td>sep</td>\n",
              "      <td>2001</td>\n",
              "      <td>13</td>\n",
              "      <td>0</td>\n",
              "    </tr>\n",
              "  </tbody>\n",
              "</table>\n",
              "</div>"
            ],
            "text/plain": [
              "         county               station  rain  temp  ... month  year hour Rain_Or_Not\n",
              "738335   Dublin              CASEMENT   0.0  12.7  ...   aug  2019   22           0\n",
              "2218554    Mayo         KNOCK AIRPORT   0.0   7.3  ...   mar  2011   15           0\n",
              "2259599    Mayo         KNOCK AIRPORT   0.0   7.6  ...   nov  2015   20           0\n",
              "323243     Mayo             BELMULLET   0.0  17.2  ...   sep  2002   11           0\n",
              "450111     Mayo             BELMULLET   0.0   8.7  ...   feb  2017   15           0\n",
              "4132926   Clare       SHANNON AIRPORT   0.0  12.8  ...   sep  2006   00           0\n",
              "4631470   Kerry  VALENTIA OBSERVATORY   0.0   8.1  ...   feb  2017   16           0\n",
              "1516568  Dublin        DUBLIN AIRPORT   0.0   7.3  ...   mar  2017   17           0\n",
              "1393721  Dublin        DUBLIN AIRPORT   0.0   7.7  ...   feb  2003   02           0\n",
              "1114251    Cork          CORK AIRPORT   0.0  19.6  ...   sep  2001   13           0\n",
              "\n",
              "[10 rows x 17 columns]"
            ]
          },
          "metadata": {
            "tags": []
          },
          "execution_count": 34
        }
      ]
    },
    {
      "cell_type": "code",
      "metadata": {
        "id": "Xue7Khd9mwPv"
      },
      "source": [
        "df[[\"temp\",\"wetb\",\"dewpt\",\"vappr\",\"rhum\",\"msl\",\t\"wdsp\",\t\"wddir\",\t\"day\", \"year\",\"hour\"]] = df[[\"temp\",\"wetb\",\"dewpt\",\"vappr\",\"rhum\",\"msl\",\t\"wdsp\",\t\"wddir\",\t\"day\", \"year\",\"hour\"]].apply(pd.to_numeric,errors='coerce')"
      ],
      "execution_count": 35,
      "outputs": []
    },
    {
      "cell_type": "code",
      "metadata": {
        "colab": {
          "base_uri": "https://localhost:8080/",
          "height": 204
        },
        "id": "XlVul6ienvIP",
        "outputId": "c9326368-4099-4a4d-ba57-e2f9e02c54bc"
      },
      "source": [
        "df.head()"
      ],
      "execution_count": 36,
      "outputs": [
        {
          "output_type": "execute_result",
          "data": {
            "text/html": [
              "<div>\n",
              "<style scoped>\n",
              "    .dataframe tbody tr th:only-of-type {\n",
              "        vertical-align: middle;\n",
              "    }\n",
              "\n",
              "    .dataframe tbody tr th {\n",
              "        vertical-align: top;\n",
              "    }\n",
              "\n",
              "    .dataframe thead th {\n",
              "        text-align: right;\n",
              "    }\n",
              "</style>\n",
              "<table border=\"1\" class=\"dataframe\">\n",
              "  <thead>\n",
              "    <tr style=\"text-align: right;\">\n",
              "      <th></th>\n",
              "      <th>county</th>\n",
              "      <th>station</th>\n",
              "      <th>rain</th>\n",
              "      <th>temp</th>\n",
              "      <th>wetb</th>\n",
              "      <th>dewpt</th>\n",
              "      <th>vappr</th>\n",
              "      <th>rhum</th>\n",
              "      <th>msl</th>\n",
              "      <th>wdsp</th>\n",
              "      <th>wddir</th>\n",
              "      <th>timestamp</th>\n",
              "      <th>day</th>\n",
              "      <th>month</th>\n",
              "      <th>year</th>\n",
              "      <th>hour</th>\n",
              "      <th>Rain_Or_Not</th>\n",
              "    </tr>\n",
              "  </thead>\n",
              "  <tbody>\n",
              "    <tr>\n",
              "      <th>738335</th>\n",
              "      <td>Dublin</td>\n",
              "      <td>CASEMENT</td>\n",
              "      <td>0.0</td>\n",
              "      <td>12.7</td>\n",
              "      <td>11.4</td>\n",
              "      <td>10.1</td>\n",
              "      <td>12.4</td>\n",
              "      <td>85.0</td>\n",
              "      <td>999.3</td>\n",
              "      <td>11.0</td>\n",
              "      <td>220.0</td>\n",
              "      <td>22:00</td>\n",
              "      <td>17</td>\n",
              "      <td>aug</td>\n",
              "      <td>2019</td>\n",
              "      <td>22</td>\n",
              "      <td>0</td>\n",
              "    </tr>\n",
              "    <tr>\n",
              "      <th>2218554</th>\n",
              "      <td>Mayo</td>\n",
              "      <td>KNOCK AIRPORT</td>\n",
              "      <td>0.0</td>\n",
              "      <td>7.3</td>\n",
              "      <td>6.2</td>\n",
              "      <td>4.8</td>\n",
              "      <td>8.6</td>\n",
              "      <td>84.0</td>\n",
              "      <td>1036.2</td>\n",
              "      <td>10.0</td>\n",
              "      <td>180.0</td>\n",
              "      <td>15:00</td>\n",
              "      <td>2</td>\n",
              "      <td>mar</td>\n",
              "      <td>2011</td>\n",
              "      <td>15</td>\n",
              "      <td>0</td>\n",
              "    </tr>\n",
              "    <tr>\n",
              "      <th>2259599</th>\n",
              "      <td>Mayo</td>\n",
              "      <td>KNOCK AIRPORT</td>\n",
              "      <td>0.0</td>\n",
              "      <td>7.6</td>\n",
              "      <td>7.2</td>\n",
              "      <td>6.6</td>\n",
              "      <td>9.8</td>\n",
              "      <td>94.0</td>\n",
              "      <td>1009.1</td>\n",
              "      <td>7.0</td>\n",
              "      <td>170.0</td>\n",
              "      <td>20:00</td>\n",
              "      <td>6</td>\n",
              "      <td>nov</td>\n",
              "      <td>2015</td>\n",
              "      <td>20</td>\n",
              "      <td>0</td>\n",
              "    </tr>\n",
              "    <tr>\n",
              "      <th>323243</th>\n",
              "      <td>Mayo</td>\n",
              "      <td>BELMULLET</td>\n",
              "      <td>0.0</td>\n",
              "      <td>17.2</td>\n",
              "      <td>14.3</td>\n",
              "      <td>12.0</td>\n",
              "      <td>14.0</td>\n",
              "      <td>71.0</td>\n",
              "      <td>1008.0</td>\n",
              "      <td>13.0</td>\n",
              "      <td>150.0</td>\n",
              "      <td>11:00</td>\n",
              "      <td>9</td>\n",
              "      <td>sep</td>\n",
              "      <td>2002</td>\n",
              "      <td>11</td>\n",
              "      <td>0</td>\n",
              "    </tr>\n",
              "    <tr>\n",
              "      <th>450111</th>\n",
              "      <td>Mayo</td>\n",
              "      <td>BELMULLET</td>\n",
              "      <td>0.0</td>\n",
              "      <td>8.7</td>\n",
              "      <td>6.7</td>\n",
              "      <td>4.1</td>\n",
              "      <td>8.2</td>\n",
              "      <td>72.0</td>\n",
              "      <td>992.7</td>\n",
              "      <td>22.0</td>\n",
              "      <td>310.0</td>\n",
              "      <td>15:00</td>\n",
              "      <td>28</td>\n",
              "      <td>feb</td>\n",
              "      <td>2017</td>\n",
              "      <td>15</td>\n",
              "      <td>0</td>\n",
              "    </tr>\n",
              "  </tbody>\n",
              "</table>\n",
              "</div>"
            ],
            "text/plain": [
              "         county        station  rain  temp  ...  month  year  hour  Rain_Or_Not\n",
              "738335   Dublin       CASEMENT   0.0  12.7  ...    aug  2019    22            0\n",
              "2218554    Mayo  KNOCK AIRPORT   0.0   7.3  ...    mar  2011    15            0\n",
              "2259599    Mayo  KNOCK AIRPORT   0.0   7.6  ...    nov  2015    20            0\n",
              "323243     Mayo      BELMULLET   0.0  17.2  ...    sep  2002    11            0\n",
              "450111     Mayo      BELMULLET   0.0   8.7  ...    feb  2017    15            0\n",
              "\n",
              "[5 rows x 17 columns]"
            ]
          },
          "metadata": {
            "tags": []
          },
          "execution_count": 36
        }
      ]
    },
    {
      "cell_type": "code",
      "metadata": {
        "colab": {
          "base_uri": "https://localhost:8080/"
        },
        "id": "GCz1Q6YboBsT",
        "outputId": "53ea1d01-5029-40a6-bf34-b891442ea3bc"
      },
      "source": [
        "df.dtypes"
      ],
      "execution_count": 37,
      "outputs": [
        {
          "output_type": "execute_result",
          "data": {
            "text/plain": [
              "county          object\n",
              "station         object\n",
              "rain           float64\n",
              "temp           float64\n",
              "wetb           float64\n",
              "dewpt          float64\n",
              "vappr          float64\n",
              "rhum           float64\n",
              "msl            float64\n",
              "wdsp           float64\n",
              "wddir          float64\n",
              "timestamp       object\n",
              "day              int64\n",
              "month           object\n",
              "year             int64\n",
              "hour             int64\n",
              "Rain_Or_Not      int64\n",
              "dtype: object"
            ]
          },
          "metadata": {
            "tags": []
          },
          "execution_count": 37
        }
      ]
    },
    {
      "cell_type": "code",
      "metadata": {
        "id": "0YHmPYL3HBmr"
      },
      "source": [
        "df.dropna(inplace=True)"
      ],
      "execution_count": 43,
      "outputs": []
    },
    {
      "cell_type": "markdown",
      "metadata": {
        "id": "3nYPdOrxi4Md"
      },
      "source": [
        "# Predicting different models\n",
        "We'll use:\n",
        "\n",
        "\n",
        "\n",
        "1.   Logistic Regression\n",
        "2.   KNearest Neighbors\n",
        "3.   Decision Trees\n",
        "4.    Random Forest\n",
        "5.  Naive Bayes GNB\n",
        "6.  XG Boost"
      ]
    },
    {
      "cell_type": "code",
      "metadata": {
        "id": "Q18OJop5i41B"
      },
      "source": [
        "\n",
        "from sklearn.model_selection import train_test_split\n",
        "\n",
        "X = df[\n",
        "        [ \n",
        "          \n",
        "         \t\"temp\",\n",
        "         \t\"wetb\",\n",
        "         \t\"dewpt\",\n",
        "         \t\"vappr\",\n",
        "         \t\"rhum\",\n",
        "         \t\"msl\",\n",
        "         \t\"wdsp\",\n",
        "         \t\"wddir\",\n",
        "         \t\"day\",\n",
        "         \t\"year\",\n",
        "         \t\"hour\",\n",
        "         \n",
        "        ]\n",
        "]\n",
        "\n",
        "y = df['Rain_Or_Not']\n",
        "\n"
      ],
      "execution_count": 44,
      "outputs": []
    },
    {
      "cell_type": "markdown",
      "metadata": {
        "id": "xZ6ZYcsZIzKh"
      },
      "source": [
        "We must to do train_test_split for split our data on X and Y."
      ]
    },
    {
      "cell_type": "code",
      "metadata": {
        "id": "tvDIhYpnkOZq"
      },
      "source": [
        "X_train, X_test, y_train, y_test = train_test_split(X, y, random_state=42, test_size=0.35)"
      ],
      "execution_count": 45,
      "outputs": []
    },
    {
      "cell_type": "code",
      "metadata": {
        "colab": {
          "base_uri": "https://localhost:8080/"
        },
        "id": "74IaKyyKkUpg",
        "outputId": "31e5b730-27b1-44c8-803f-f675361233ba"
      },
      "source": [
        "print(X_train)"
      ],
      "execution_count": 46,
      "outputs": [
        {
          "output_type": "stream",
          "text": [
            "         temp  wetb  dewpt  vappr   rhum     msl  wdsp  wddir  day  year  hour\n",
            "472595   13.6  12.8   12.1   14.1   90.0   996.9  11.0  140.0   23  2019    11\n",
            "2171855  11.5  11.5   11.5   13.6  100.0   986.3  11.0  140.0    2  2005    20\n",
            "4516277   5.5   2.9   -1.6    5.4   60.0  1034.7  12.0   10.0   21  2003    22\n",
            "4170599  12.1  11.4   10.7   12.9   92.0   999.1  16.0  190.0   15  2011    17\n",
            "1457479  20.8  16.5   13.4   15.3   62.0  1017.3  11.0  130.0    4  2010    16\n",
            "...       ...   ...    ...    ...    ...     ...   ...    ...  ...   ...   ...\n",
            "1215235   0.8   0.7    0.6    6.3   98.0   990.6   6.0   90.0   16  2013     5\n",
            "215128   12.1   9.8    7.3   10.3   73.0  1015.5   9.0  250.0   10  1990    16\n",
            "1066945  10.9  10.9   10.9   13.0  100.0  1018.5  11.0  190.0   15  1996    11\n",
            "4003869   5.3   4.6    3.6    7.9   89.0   996.5  12.0  360.0    8  1992    15\n",
            "2643473  15.5  12.8   10.5   12.7   72.0  1022.1  11.0   80.0    5  2013    13\n",
            "\n",
            "[504392 rows x 11 columns]\n"
          ],
          "name": "stdout"
        }
      ]
    },
    {
      "cell_type": "code",
      "metadata": {
        "colab": {
          "base_uri": "https://localhost:8080/"
        },
        "id": "EPA60rbRkgP7",
        "outputId": "90e913d8-a81b-43d5-f416-5a4ae4156d58"
      },
      "source": [
        "print(X_test)"
      ],
      "execution_count": 47,
      "outputs": [
        {
          "output_type": "stream",
          "text": [
            "         temp  wetb  dewpt  vappr  rhum     msl  wdsp  wddir  day  year  hour\n",
            "404257    5.8   4.8    3.4    7.8  85.0  1001.1  26.0  270.0    7  2011     1\n",
            "1038426   6.4   6.1    5.7    9.2  95.0  1001.8  15.0  210.0   13  1993     4\n",
            "378700   -1.1  -1.4   -2.0    5.3  94.0  1028.6   1.0  130.0    6  2009     4\n",
            "4632278   8.8   8.4    8.0   10.7  94.0  1022.3   9.0  200.0   16  2017     8\n",
            "4083309   9.5   8.3    7.0   10.0  84.0  1017.8  10.0  280.0   30  2001    15\n",
            "...       ...   ...    ...    ...   ...     ...   ...    ...  ...   ...   ...\n",
            "4569689   3.7   3.3    2.7    7.4  93.0  1026.9   1.0  280.0   24  2010    10\n",
            "2118499   9.1   7.1    4.6    8.5  73.0   992.4  14.0  310.0    2  1999    16\n",
            "1192634  16.7  11.9    7.2   10.1  53.0  1014.1  14.0  310.0   17  2010    12\n",
            "2462591   8.1   6.5    4.4    8.4  78.0  1007.9  26.0  360.0   16  1992    19\n",
            "4399132  17.1  16.4   15.9   18.1  93.0  1017.8  13.0  210.0   10  1990    21\n",
            "\n",
            "[271596 rows x 11 columns]\n"
          ],
          "name": "stdout"
        }
      ]
    },
    {
      "cell_type": "markdown",
      "metadata": {
        "id": "F4-lVrfuJVru"
      },
      "source": [
        "Perfomed rainfall prediction using Logistic regression model."
      ]
    },
    {
      "cell_type": "code",
      "metadata": {
        "colab": {
          "base_uri": "https://localhost:8080/"
        },
        "id": "vzKyiHtIkrGG",
        "outputId": "1997ac5e-e068-4152-b586-8d16eeaeb8a9"
      },
      "source": [
        "# Logistic Regression\n",
        "from sklearn.utils._testing import ignore_warnings\n",
        "from sklearn.exceptions import ConvergenceWarning\n",
        "from sklearn.metrics import classification_report, accuracy_score\n",
        "\n",
        "from sklearn.linear_model import LogisticRegression\n",
        "\n",
        "lr = LogisticRegression()\n",
        "lr.fit(X_train, y_train)\n",
        "lr_predict = lr.predict(X_test)\n",
        "print(accuracy_score(y_test, lr_predict))\n",
        "print(classification_report(y_test, lr_predict))"
      ],
      "execution_count": 48,
      "outputs": [
        {
          "output_type": "stream",
          "text": [
            "0.7555523645414512\n",
            "              precision    recall  f1-score   support\n",
            "\n",
            "           0       0.77      0.73      0.75    135520\n",
            "           1       0.74      0.78      0.76    136076\n",
            "\n",
            "    accuracy                           0.76    271596\n",
            "   macro avg       0.76      0.76      0.76    271596\n",
            "weighted avg       0.76      0.76      0.76    271596\n",
            "\n"
          ],
          "name": "stdout"
        }
      ]
    },
    {
      "cell_type": "markdown",
      "metadata": {
        "id": "kGq1dQa9Jhz6"
      },
      "source": [
        "Prediction using KNN algorithm."
      ]
    },
    {
      "cell_type": "code",
      "metadata": {
        "colab": {
          "base_uri": "https://localhost:8080/"
        },
        "id": "R0fhCWKit_g7",
        "outputId": "e4a85a17-474f-4edd-90cb-c65193a9c00b"
      },
      "source": [
        "from sklearn.neighbors import KNeighborsClassifier\n",
        "\n",
        "knn = KNeighborsClassifier()\n",
        "knn.fit(X_train, y_train)\n",
        "knn_predict = knn.predict(X_test)\n",
        "print(accuracy_score(y_test, knn_predict))\n",
        "print(classification_report(y_test, knn_predict))"
      ],
      "execution_count": 50,
      "outputs": [
        {
          "output_type": "stream",
          "text": [
            "0.7583727300843901\n",
            "              precision    recall  f1-score   support\n",
            "\n",
            "           0       0.77      0.73      0.75    135520\n",
            "           1       0.74      0.79      0.77    136076\n",
            "\n",
            "    accuracy                           0.76    271596\n",
            "   macro avg       0.76      0.76      0.76    271596\n",
            "weighted avg       0.76      0.76      0.76    271596\n",
            "\n"
          ],
          "name": "stdout"
        }
      ]
    },
    {
      "cell_type": "markdown",
      "metadata": {
        "id": "vlZVWJmYJp3w"
      },
      "source": [
        "Prediction using decision tree classifier."
      ]
    },
    {
      "cell_type": "code",
      "metadata": {
        "colab": {
          "base_uri": "https://localhost:8080/"
        },
        "id": "juRVXhXkuh3O",
        "outputId": "fd28ee8e-5cb5-44e9-9132-6117daa026cb"
      },
      "source": [
        "from sklearn.tree import DecisionTreeClassifier\n",
        "\n",
        "tree = DecisionTreeClassifier(random_state=7)\n",
        "tree.fit(X_train, y_train)\n",
        "tree_predict = tree.predict(X_test)\n",
        "print(accuracy_score(y_test, tree_predict))\n",
        "print(classification_report(y_test, tree_predict))"
      ],
      "execution_count": 51,
      "outputs": [
        {
          "output_type": "stream",
          "text": [
            "0.7087990986612469\n",
            "              precision    recall  f1-score   support\n",
            "\n",
            "           0       0.71      0.71      0.71    135520\n",
            "           1       0.71      0.71      0.71    136076\n",
            "\n",
            "    accuracy                           0.71    271596\n",
            "   macro avg       0.71      0.71      0.71    271596\n",
            "weighted avg       0.71      0.71      0.71    271596\n",
            "\n"
          ],
          "name": "stdout"
        }
      ]
    },
    {
      "cell_type": "markdown",
      "metadata": {
        "id": "GXyUKvGpJwHX"
      },
      "source": [
        "Prediction using Random forest classifier."
      ]
    },
    {
      "cell_type": "code",
      "metadata": {
        "colab": {
          "base_uri": "https://localhost:8080/"
        },
        "id": "NzAEcst7urwy",
        "outputId": "59593b32-2690-424a-c15c-a19d53c2e10e"
      },
      "source": [
        "# Random Forest Classifier\n",
        "\n",
        "from sklearn.ensemble import RandomForestClassifier\n",
        "\n",
        "forest = RandomForestClassifier(random_state=7)\n",
        "forest.fit(X_train, y_train)\n",
        "forest_predict = forest.predict(X_test)\n",
        "print(accuracy_score(y_test, forest_predict))\n",
        "print(classification_report(y_test, forest_predict))"
      ],
      "execution_count": 49,
      "outputs": [
        {
          "output_type": "stream",
          "text": [
            "0.7905491980736093\n",
            "              precision    recall  f1-score   support\n",
            "\n",
            "           0       0.81      0.76      0.78    135520\n",
            "           1       0.78      0.82      0.80    136076\n",
            "\n",
            "    accuracy                           0.79    271596\n",
            "   macro avg       0.79      0.79      0.79    271596\n",
            "weighted avg       0.79      0.79      0.79    271596\n",
            "\n"
          ],
          "name": "stdout"
        }
      ]
    },
    {
      "cell_type": "markdown",
      "metadata": {
        "id": "U0nts8IvJ04b"
      },
      "source": [
        "Prediction using naive bayes."
      ]
    },
    {
      "cell_type": "code",
      "metadata": {
        "colab": {
          "base_uri": "https://localhost:8080/"
        },
        "id": "v_rW0IYovIbb",
        "outputId": "f3621a40-ddb9-4066-850a-6044c61781c1"
      },
      "source": [
        "# Naive Bayes\n",
        "\n",
        "from sklearn.naive_bayes import GaussianNB\n",
        "\n",
        "bayes = GaussianNB()\n",
        "bayes.fit(X_train, y_train)\n",
        "bayes_predict = bayes.predict(X_test)\n",
        "print(accuracy_score(y_test, bayes_predict))\n",
        "print(classification_report(y_test, bayes_predict))"
      ],
      "execution_count": 52,
      "outputs": [
        {
          "output_type": "stream",
          "text": [
            "0.73651673809629\n",
            "              precision    recall  f1-score   support\n",
            "\n",
            "           0       0.77      0.68      0.72    135520\n",
            "           1       0.71      0.80      0.75    136076\n",
            "\n",
            "    accuracy                           0.74    271596\n",
            "   macro avg       0.74      0.74      0.74    271596\n",
            "weighted avg       0.74      0.74      0.74    271596\n",
            "\n"
          ],
          "name": "stdout"
        }
      ]
    },
    {
      "cell_type": "markdown",
      "metadata": {
        "id": "LDoU969VKApj"
      },
      "source": [
        "Prediction using XGBoost"
      ]
    },
    {
      "cell_type": "code",
      "metadata": {
        "colab": {
          "base_uri": "https://localhost:8080/"
        },
        "id": "XrunDxlGvOqL",
        "outputId": "700a81e1-05ad-42ab-ffaf-a9154de76ec8"
      },
      "source": [
        "# XGBoost\n",
        "\n",
        "import xgboost as xgb\n",
        "\n",
        "xgb = xgb.XGBClassifier()\n",
        "xgb.fit(X_train, y_train)\n",
        "xgb_predict = xgb.predict(X_test)\n",
        "print(accuracy_score(y_test, xgb_predict))\n",
        "print(classification_report(y_test, xgb_predict))"
      ],
      "execution_count": 53,
      "outputs": [
        {
          "output_type": "stream",
          "text": [
            "0.7748530906198913\n",
            "              precision    recall  f1-score   support\n",
            "\n",
            "           0       0.79      0.74      0.77    135520\n",
            "           1       0.76      0.81      0.78    136076\n",
            "\n",
            "    accuracy                           0.77    271596\n",
            "   macro avg       0.78      0.77      0.77    271596\n",
            "weighted avg       0.78      0.77      0.77    271596\n",
            "\n"
          ],
          "name": "stdout"
        }
      ]
    },
    {
      "cell_type": "code",
      "metadata": {
        "id": "T377jvMyva5e"
      },
      "source": [
        "models_default_scores = {\n",
        "    'Logistic Regression' : lr.score(X_test, y_test),\n",
        "    'KNearest Neighbors' : knn.score(X_test, y_test),\n",
        "    'Decision Tree' : tree.score(X_test, y_test),\n",
        "    'Random Forest Classifier' : forest.score(X_test, y_test),\n",
        "    'Naive Bayes GNB' : bayes.score(X_test, y_test),\n",
        "    'XGBoost' : xgb.score(X_test, y_test)\n",
        "}"
      ],
      "execution_count": 54,
      "outputs": []
    },
    {
      "cell_type": "code",
      "metadata": {
        "colab": {
          "base_uri": "https://localhost:8080/"
        },
        "id": "wUUozJElwPj4",
        "outputId": "20ba7ba2-3d69-48f5-a6ef-fb6bbafd714e"
      },
      "source": [
        "models_default_scores"
      ],
      "execution_count": 55,
      "outputs": [
        {
          "output_type": "execute_result",
          "data": {
            "text/plain": [
              "{'Decision Tree': 0.7087990986612469,\n",
              " 'KNearest Neighbors': 0.7583727300843901,\n",
              " 'Logistic Regression': 0.7555523645414512,\n",
              " 'Naive Bayes GNB': 0.73651673809629,\n",
              " 'Random Forest Classifier': 0.7905491980736093,\n",
              " 'XGBoost': 0.7748530906198913}"
            ]
          },
          "metadata": {
            "tags": []
          },
          "execution_count": 55
        }
      ]
    },
    {
      "cell_type": "code",
      "metadata": {
        "colab": {
          "base_uri": "https://localhost:8080/",
          "height": 396
        },
        "id": "uJBHT7U9w7_e",
        "outputId": "8a1a94c2-c56e-4c8b-9972-665dbf34c161"
      },
      "source": [
        "default_models_compare = pd.DataFrame(models_default_scores, index=['accuracy'])\n",
        "default_models_compare.T.plot.bar()"
      ],
      "execution_count": 56,
      "outputs": [
        {
          "output_type": "execute_result",
          "data": {
            "text/plain": [
              "<matplotlib.axes._subplots.AxesSubplot at 0x7f14f81d3550>"
            ]
          },
          "metadata": {
            "tags": []
          },
          "execution_count": 56
        },
        {
          "output_type": "display_data",
          "data": {
            "image/png": "[encoded data removed]",
            "text/plain": [
              "<Figure size 432x288 with 1 Axes>"
            ]
          },
          "metadata": {
            "tags": [],
            "needs_background": "light"
          }
        }
      ]
    },
    {
      "cell_type": "code",
      "metadata": {
        "colab": {
          "base_uri": "https://localhost:8080/",
          "height": 1000
        },
        "id": "juKadxYaxm88",
        "outputId": "5e9c9157-f6aa-41d5-a461-0ca5790d66c8"
      },
      "source": [
        "\n",
        "from sklearn import metrics\n",
        "\n",
        "metrics.plot_roc_curve(lr, X_test, y_test)\n",
        "metrics.plot_roc_curve(bayes, X_test, y_test)\n",
        "metrics.plot_roc_curve(knn, X_test, y_test)\n",
        "metrics.plot_roc_curve(tree, X_test, y_test)\n",
        "metrics.plot_roc_curve(forest, X_test, y_test)\n",
        "metrics.plot_roc_curve(xgb, X_test, y_test)\n"
      ],
      "execution_count": 57,
      "outputs": [
        {
          "output_type": "execute_result",
          "data": {
            "text/plain": [
              "<sklearn.metrics._plot.roc_curve.RocCurveDisplay at 0x7f14f50cc9d0>"
            ]
          },
          "metadata": {
            "tags": []
          },
          "execution_count": 57
        },
        {
          "output_type": "display_data",
          "data": {
            "image/png": "[encoded data removed]",
            "text/plain": [
              "<Figure size 432x288 with 1 Axes>"
            ]
          },
          "metadata": {
            "tags": [],
            "needs_background": "light"
          }
        },
        {
          "output_type": "display_data",
          "data": {
            "image/png": "[encoded data removed]",
            "text/plain": [
              "<Figure size 432x288 with 1 Axes>"
            ]
          },
          "metadata": {
            "tags": [],
            "needs_background": "light"
          }
        },
        {
          "output_type": "display_data",
          "data": {
            "image/png": "[encoded data removed]",
            "text/plain": [
              "<Figure size 432x288 with 1 Axes>"
            ]
          },
          "metadata": {
            "tags": [],
            "needs_background": "light"
          }
        },
        {
          "output_type": "display_data",
          "data": {
            "image/png": "[encoded data removed]",
            "text/plain": [
              "<Figure size 432x288 with 1 Axes>"
            ]
          },
          "metadata": {
            "tags": [],
            "needs_background": "light"
          }
        },
        {
          "output_type": "display_data",
          "data": {
            "image/png": "[encoded data removed]",
            "text/plain": [
              "<Figure size 432x288 with 1 Axes>"
            ]
          },
          "metadata": {
            "tags": [],
            "needs_background": "light"
          }
        },
        {
          "output_type": "display_data",
          "data": {
            "image/png": "[encoded data removed]",
            "text/plain": [
              "<Figure size 432x288 with 1 Axes>"
            ]
          },
          "metadata": {
            "tags": [],
            "needs_background": "light"
          }
        }
      ]
    },
    {
      "cell_type": "markdown",
      "metadata": {
        "id": "UsKeFmPjMo_H"
      },
      "source": [
        "Hyperparameter tuning with RandomizedSearchCV"
      ]
    },
    {
      "cell_type": "code",
      "metadata": {
        "id": "JQw6mPpXL9L0"
      },
      "source": [
        "\n",
        "\n",
        "# Random Forest Classifier Grid\n",
        "forest_grid = {'n_estimators' : np.arange(10,600,10),\n",
        "               'max_depth' : np.arange(1,12,1),\n",
        "               'min_samples_leaf' : np.arange(2,14,2),\n",
        "               'min_samples_split' : np.arange(2,14,2)}\n",
        "\n"
      ],
      "execution_count": 58,
      "outputs": []
    },
    {
      "cell_type": "code",
      "metadata": {
        "colab": {
          "base_uri": "https://localhost:8080/"
        },
        "id": "dbJQNqAfN_GE",
        "outputId": "466bf44c-a44a-4b56-f2e5-c5a5c5a9d3f9"
      },
      "source": [
        "from sklearn.model_selection import RandomizedSearchCV\n",
        "\n",
        "np.random.seed(7)\n",
        "\n",
        "forest_cv = RandomizedSearchCV(RandomForestClassifier(n_jobs=-1,\n",
        "                                                      max_samples=10000),\n",
        "                               param_distributions=forest_grid,\n",
        "                               cv=5,\n",
        "                               n_iter=20,\n",
        "                               verbose=True)\n",
        "\n",
        "forest_cv.fit(X_train, y_train)"
      ],
      "execution_count": 61,
      "outputs": [
        {
          "output_type": "stream",
          "text": [
            "Fitting 5 folds for each of 20 candidates, totalling 100 fits\n"
          ],
          "name": "stdout"
        },
        {
          "output_type": "stream",
          "text": [
            "[Parallel(n_jobs=1)]: Using backend SequentialBackend with 1 concurrent workers.\n",
            "[Parallel(n_jobs=1)]: Done 100 out of 100 | elapsed: 27.9min finished\n"
          ],
          "name": "stderr"
        },
        {
          "output_type": "execute_result",
          "data": {
            "text/plain": [
              "RandomizedSearchCV(cv=5, error_score=nan,\n",
              "                   estimator=RandomForestClassifier(bootstrap=True,\n",
              "                                                    ccp_alpha=0.0,\n",
              "                                                    class_weight=None,\n",
              "                                                    criterion='gini',\n",
              "                                                    max_depth=None,\n",
              "                                                    max_features='auto',\n",
              "                                                    max_leaf_nodes=None,\n",
              "                                                    max_samples=10000,\n",
              "                                                    min_impurity_decrease=0.0,\n",
              "                                                    min_impurity_split=None,\n",
              "                                                    min_samples_leaf=1,\n",
              "                                                    min_samples_split=2,\n",
              "                                                    min_weight_fraction_leaf=0.0,\n",
              "                                                    n_estimators=100, n_job...\n",
              "                                        'n_estimators': array([ 10,  20,  30,  40,  50,  60,  70,  80,  90, 100, 110, 120, 130,\n",
              "       140, 150, 160, 170, 180, 190, 200, 210, 220, 230, 240, 250, 260,\n",
              "       270, 280, 290, 300, 310, 320, 330, 340, 350, 360, 370, 380, 390,\n",
              "       400, 410, 420, 430, 440, 450, 460, 470, 480, 490, 500, 510, 520,\n",
              "       530, 540, 550, 560, 570, 580, 590])},\n",
              "                   pre_dispatch='2*n_jobs', random_state=None, refit=True,\n",
              "                   return_train_score=False, scoring=None, verbose=True)"
            ]
          },
          "metadata": {
            "tags": []
          },
          "execution_count": 61
        }
      ]
    },
    {
      "cell_type": "code",
      "metadata": {
        "colab": {
          "base_uri": "https://localhost:8080/"
        },
        "id": "NevOTFIoU6Kc",
        "outputId": "eb68f4dd-bcbf-4729-e7c0-7a52a0df9ccb"
      },
      "source": [
        "forest_cv.best_params_"
      ],
      "execution_count": 62,
      "outputs": [
        {
          "output_type": "execute_result",
          "data": {
            "text/plain": [
              "{'max_depth': 11,\n",
              " 'min_samples_leaf': 8,\n",
              " 'min_samples_split': 4,\n",
              " 'n_estimators': 390}"
            ]
          },
          "metadata": {
            "tags": []
          },
          "execution_count": 62
        }
      ]
    },
    {
      "cell_type": "code",
      "metadata": {
        "colab": {
          "base_uri": "https://localhost:8080/"
        },
        "id": "ruL3zHU3U8DG",
        "outputId": "b6d2ee42-7574-469d-ea49-99e22a0167da"
      },
      "source": [
        "forest_cv.score(X_test, y_test)"
      ],
      "execution_count": 63,
      "outputs": [
        {
          "output_type": "execute_result",
          "data": {
            "text/plain": [
              "0.7763221844209782"
            ]
          },
          "metadata": {
            "tags": []
          },
          "execution_count": 63
        }
      ]
    }
  ]
}